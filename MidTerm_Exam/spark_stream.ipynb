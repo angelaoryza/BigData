{
  "cells": [
    {
      "cell_type": "markdown",
      "metadata": {
        "id": "view-in-github",
        "colab_type": "text"
      },
      "source": [
        "<a href=\"https://colab.research.google.com/github/angelaoryza/BigData/blob/main/MidTerm_Exam/spark_stream.ipynb\" target=\"_parent\"><img src=\"https://colab.research.google.com/assets/colab-badge.svg\" alt=\"Open In Colab\"/></a>"
      ]
    },
    {
      "cell_type": "markdown",
      "source": [
        "# Spark Streaming\n",
        "\n",
        "Name : Angela Oryza Prabowo\n",
        "\n",
        "Student Number : 5025201022"
      ],
      "metadata": {
        "id": "m85KxIeRn8ia"
      }
    },
    {
      "cell_type": "markdown",
      "source": [
        "# 1. Preparing the Environment\n",
        "\n",
        "We are going to set up our environtment by defining the directory for loading the input files and storing the output files"
      ],
      "metadata": {
        "id": "RXRqFUhBpDU7"
      }
    },
    {
      "cell_type": "code",
      "source": [
        "import os.path\n",
        "from os import path\n",
        "\n",
        "if path.exists('/content/input-5025201022') == False:\n",
        "  os.mkdir('/content/input-5025201022')\n",
        "\n",
        "\n",
        "!wget --no-check-certificate 'https://docs.google.com/uc?export=download&id=1B-ywFVoUqW9_qHaOkgGG8Q4qirwSWbo0' -O '/content/input-5025201022/news.zip'\n",
        "!unzip '/content/input-5025201022/news' -d '/content/input-5025201022/'"
      ],
      "metadata": {
        "colab": {
          "base_uri": "https://localhost:8080/"
        },
        "id": "vLtTKqEncQBp",
        "outputId": "2b804b87-ed26-463f-d49d-ce2134c5dba4"
      },
      "execution_count": 25,
      "outputs": [
        {
          "output_type": "stream",
          "name": "stdout",
          "text": [
            "--2023-04-14 02:44:55--  https://docs.google.com/uc?export=download&id=1B-ywFVoUqW9_qHaOkgGG8Q4qirwSWbo0\n",
            "Resolving docs.google.com (docs.google.com)... 142.251.163.102, 142.251.163.139, 142.251.163.101, ...\n",
            "Connecting to docs.google.com (docs.google.com)|142.251.163.102|:443... connected.\n",
            "HTTP request sent, awaiting response... 303 See Other\n",
            "Location: https://doc-10-40-docs.googleusercontent.com/docs/securesc/ha0ro937gcuc7l7deffksulhg5h7mbp1/mf3a0nuo2am9rkeonhls2aigut8f00rk/1681440225000/08107738916201805538/*/1B-ywFVoUqW9_qHaOkgGG8Q4qirwSWbo0?e=download&uuid=78408170-d888-4a9e-b204-3795c3ce70a2 [following]\n",
            "Warning: wildcards not supported in HTTP.\n",
            "--2023-04-14 02:44:56--  https://doc-10-40-docs.googleusercontent.com/docs/securesc/ha0ro937gcuc7l7deffksulhg5h7mbp1/mf3a0nuo2am9rkeonhls2aigut8f00rk/1681440225000/08107738916201805538/*/1B-ywFVoUqW9_qHaOkgGG8Q4qirwSWbo0?e=download&uuid=78408170-d888-4a9e-b204-3795c3ce70a2\n",
            "Resolving doc-10-40-docs.googleusercontent.com (doc-10-40-docs.googleusercontent.com)... 172.253.62.132, 2607:f8b0:4004:c07::84\n",
            "Connecting to doc-10-40-docs.googleusercontent.com (doc-10-40-docs.googleusercontent.com)|172.253.62.132|:443... connected.\n",
            "HTTP request sent, awaiting response... 200 OK\n",
            "Length: 5653 (5.5K) [application/zip]\n",
            "Saving to: ‘/content/input-5025201022/news.zip’\n",
            "\n",
            "/content/input-5025 100%[===================>]   5.52K  --.-KB/s    in 0s      \n",
            "\n",
            "2023-04-14 02:44:56 (50.4 MB/s) - ‘/content/input-5025201022/news.zip’ saved [5653/5653]\n",
            "\n",
            "Archive:  /content/input-5025201022/news.zip\n",
            "  inflating: /content/input-5025201022/news/news-1.json  \n",
            "  inflating: /content/input-5025201022/news/news-3.json  \n",
            "  inflating: /content/input-5025201022/news/news-2.json  \n"
          ]
        }
      ]
    },
    {
      "cell_type": "markdown",
      "source": [
        "#2. Initializing Apache Spark"
      ],
      "metadata": {
        "id": "R2zq0lmBpVgN"
      }
    },
    {
      "cell_type": "code",
      "source": [
        "# Install Apache Spark\n",
        "!pip install pyspark"
      ],
      "metadata": {
        "colab": {
          "base_uri": "https://localhost:8080/"
        },
        "id": "sIcjB1MMeowx",
        "outputId": "d7de061b-2ad2-47d1-a8e4-e9ab3962ffbd"
      },
      "execution_count": 26,
      "outputs": [
        {
          "output_type": "stream",
          "name": "stdout",
          "text": [
            "Looking in indexes: https://pypi.org/simple, https://us-python.pkg.dev/colab-wheels/public/simple/\n",
            "Requirement already satisfied: pyspark in /usr/local/lib/python3.9/dist-packages (3.4.0)\n",
            "Requirement already satisfied: py4j==0.10.9.7 in /usr/local/lib/python3.9/dist-packages (from pyspark) (0.10.9.7)\n"
          ]
        }
      ]
    },
    {
      "cell_type": "code",
      "execution_count": 27,
      "metadata": {
        "colab": {
          "base_uri": "https://localhost:8080/",
          "height": 219
        },
        "id": "ixeUAxpvcDnJ",
        "outputId": "76cafd44-af83-4da0-ac6c-8ce34e917864"
      },
      "outputs": [
        {
          "output_type": "execute_result",
          "data": {
            "text/plain": [
              "<pyspark.sql.session.SparkSession at 0x7f5d4b60d370>"
            ],
            "text/html": [
              "\n",
              "            <div>\n",
              "                <p><b>SparkSession - in-memory</b></p>\n",
              "                \n",
              "        <div>\n",
              "            <p><b>SparkContext</b></p>\n",
              "\n",
              "            <p><a href=\"http://057c8501a938:4040\">Spark UI</a></p>\n",
              "\n",
              "            <dl>\n",
              "              <dt>Version</dt>\n",
              "                <dd><code>v3.4.0</code></dd>\n",
              "              <dt>Master</dt>\n",
              "                <dd><code>local[*]</code></dd>\n",
              "              <dt>AppName</dt>\n",
              "                <dd><code>Streaming Process Files</code></dd>\n",
              "            </dl>\n",
              "        </div>\n",
              "        \n",
              "            </div>\n",
              "        "
            ]
          },
          "metadata": {},
          "execution_count": 27
        }
      ],
      "source": [
        "from pyspark.sql import SparkSession\n",
        "\n",
        "spark = SparkSession \\\n",
        "    .builder \\\n",
        "    .appName(\"Streaming Process Files\") \\\n",
        "    .config(\"spark.streaming.stopGracefullyOnShutdown\", True) \\\n",
        "    .master(\"local[*]\") \\\n",
        "    .getOrCreate()\n",
        "\n",
        "spark"
      ]
    },
    {
      "cell_type": "markdown",
      "source": [
        "#3. Configuring the Apache Spark Streaming Machine"
      ],
      "metadata": {
        "id": "ZyOTim-ipfJ9"
      }
    },
    {
      "cell_type": "code",
      "execution_count": 28,
      "metadata": {
        "id": "PUcSCQY6cDnQ"
      },
      "outputs": [],
      "source": [
        "# To allow automatic schemaInference while reading\n",
        "spark.conf.set(\"spark.sql.streaming.schemaInference\", True)\n",
        "\n",
        "# Create the streaming_df to read from input directory\n",
        "streaming_df = spark.readStream\\\n",
        "    .format(\"json\") \\\n",
        "    .option(\"cleanSource\", \"archive\") \\\n",
        "    .option(\"sourceArchiveDir\", \"archive/\") \\\n",
        "    .option(\"maxFilesPerTrigger\", 1) \\\n",
        "    .load(\"/content/input-5025201022/news/news/\")"
      ]
    },
    {
      "cell_type": "code",
      "execution_count": 29,
      "metadata": {
        "colab": {
          "base_uri": "https://localhost:8080/"
        },
        "id": "RtZXQLOOcDnQ",
        "outputId": "88775d68-5f3d-45ce-88f7-51bc7d92c96c"
      },
      "outputs": [
        {
          "output_type": "stream",
          "name": "stdout",
          "text": [
            "root\n",
            " |-- authors: string (nullable = true)\n",
            " |-- category: string (nullable = true)\n",
            " |-- date: string (nullable = true)\n",
            " |-- headline: string (nullable = true)\n",
            " |-- link: string (nullable = true)\n",
            " |-- short_description: string (nullable = true)\n",
            "\n"
          ]
        }
      ],
      "source": [
        "# To the schema of the data, place a sample json file and change readStream to read \n",
        "streaming_df.printSchema()"
      ]
    },
    {
      "cell_type": "markdown",
      "source": [
        "# 4. Write the output into designated folders"
      ],
      "metadata": {
        "id": "qvZBcVcxplMz"
      }
    },
    {
      "cell_type": "code",
      "execution_count": 30,
      "metadata": {
        "colab": {
          "base_uri": "https://localhost:8080/"
        },
        "id": "cp7VtZ67cDnR",
        "outputId": "c67bb7c2-c338-4e4a-99ee-bc46876f3fdd"
      },
      "outputs": [
        {
          "output_type": "execute_result",
          "data": {
            "text/plain": [
              "False"
            ]
          },
          "metadata": {},
          "execution_count": 30
        }
      ],
      "source": [
        "# Write the output to console sink to check the output\n",
        "writing_df = streaming_df.writeStream \\\n",
        "    .format(\"json\") \\\n",
        "    .option(\"path\", \"output-5025201022/\") \\\n",
        "    .option(\"checkpointLocation\",\"checkpoint_dir\") \\\n",
        "    .outputMode(\"append\") \\\n",
        "    .start()\n",
        "    \n",
        "# Start the streaming application to run until the following happens\n",
        "# 1. Exception in the running program\n",
        "# 2. Manual Interruption\n",
        "writing_df.awaitTermination(120)"
      ]
    },
    {
      "cell_type": "markdown",
      "source": [
        "We will stop the streaming after it has taken 120 seconds"
      ],
      "metadata": {
        "id": "STA6GSJrpoo8"
      }
    },
    {
      "cell_type": "code",
      "execution_count": 31,
      "metadata": {
        "colab": {
          "base_uri": "https://localhost:8080/"
        },
        "id": "NdHHG4CIcDnS",
        "outputId": "d997cd73-b412-4f00-bf21-8953f48bd04f"
      },
      "outputs": [
        {
          "output_type": "stream",
          "name": "stdout",
          "text": [
            "+--------------------+--------------+----------+--------------------+--------------------+--------------------+\n",
            "|             authors|      category|      date|            headline|                link|   short_description|\n",
            "+--------------------+--------------+----------+--------------------+--------------------+--------------------+\n",
            "|                    |     U.S. NEWS|2022-09-04|Emergency Declare...|https://www.huffp...|Thunderstorms and...|\n",
            "|   Marco Margaritoff| ENTERTAINMENT|2022-09-03|'The Osbournes' W...|https://www.huffp...|Millennials might...|\n",
            "|                    |     U.S. NEWS|2022-09-03|Plane That Circle...|https://www.huffp...|A pilot has been ...|\n",
            "|     Marcia Dunn, AP|       SCIENCE|2022-09-03|Fuel Leak Ruins N...|https://www.huffp...|Part of the space...|\n",
            "|   Terry Wallace, AP|     U.S. NEWS|2022-09-03|9 Migrants Are Fo...|https://www.huffp...|Tragic toll follo...|\n",
            "|        Ben Blanchet|     U.S. NEWS|2022-09-02|Owner Of New Engl...|https://www.huffp...|Nashua police cha...|\n",
            "|      Marita Vlachou|      POLITICS|2022-09-02|Former White Hous...|https://www.huffp...|Cipollone's forme...|\n",
            "|                    |     U.S. NEWS|2022-09-02|Tropical Storm Da...|https://www.huffp...|The storm — the f...|\n",
            "|Jim Heintz and Vl...|    WORLD NEWS|2022-09-02|Putin Plans To Sn...|https://www.huffp...|The low-key funer...|\n",
            "|     Marcia Dunn, AP|     U.S. NEWS|2022-09-02|NASA Aims For Sat...|https://www.huffp...|The inaugural fli...|\n",
            "|Christopher Rugab...|     U.S. NEWS|2022-09-02|U.S. Hiring Slowe...|https://www.huffp...|The unemployment ...|\n",
            "|      Nina Golgowski|     U.S. NEWS|2022-09-01|Pregnant Woman Wh...|https://www.huffp...|Brandy Bottone ha...|\n",
            "|Eric Tucker and M...|     U.S. NEWS|2022-09-21|Virginia Thomas A...|https://www.huffp...|Conservative acti...|\n",
            "|   Marco Margaritoff|    WORLD NEWS|2022-09-20|Russian Cosmonaut...|https://www.huffp...|Polyakov's record...|\n",
            "|Marina Fang and C...|CULTURE & ARTS|2022-09-20|'Reboot' Is A Cle...|https://www.huffp...|Starring Keegan-M...|\n",
            "|     Beth Harris, AP|        SPORTS|2022-09-20|Maury Wills, Base...|https://www.huffp...|Maury Wills, who ...|\n",
            "|    Jon Gambrell, AP|    WORLD NEWS|2022-09-20|4 Russian-Control...|https://www.huffp...|The concerted and...|\n",
            "|     Dánica Coto, AP|    WORLD NEWS|2022-09-20|Fiona Barrels Tow...|https://www.huffp...|The Turks and Cai...|\n",
            "|                    | ENTERTAINMENT|2022-09-20|Golden Globes Ret...|https://www.huffp...|For the past 18 m...|\n",
            "|                    |      POLITICS|2022-09-19|Biden Says U.S. F...|https://www.huffp...|President issues ...|\n",
            "+--------------------+--------------+----------+--------------------+--------------------+--------------------+\n",
            "only showing top 20 rows\n",
            "\n"
          ]
        }
      ],
      "source": [
        "# Check the data at the output location\n",
        "\n",
        "out_df = spark.read.json(\"output-5025201022/\")\n",
        "out_df.show()"
      ]
    },
    {
      "cell_type": "code",
      "execution_count": 31,
      "metadata": {
        "id": "-vGlIOUlcDnS"
      },
      "outputs": [],
      "source": []
    }
  ],
  "metadata": {
    "kernelspec": {
      "display_name": "Python 3.9.7 ('base')",
      "language": "python",
      "name": "python3"
    },
    "language_info": {
      "codemirror_mode": {
        "name": "ipython",
        "version": 3
      },
      "file_extension": ".py",
      "mimetype": "text/x-python",
      "name": "python",
      "nbconvert_exporter": "python",
      "pygments_lexer": "ipython3",
      "version": "3.9.7"
    },
    "orig_nbformat": 4,
    "vscode": {
      "interpreter": {
        "hash": "651c3b7b3f466eb030aa737f279c846be4db9cba49a2f229278cab5e41121ed5"
      }
    },
    "colab": {
      "provenance": [],
      "include_colab_link": true
    }
  },
  "nbformat": 4,
  "nbformat_minor": 0
}