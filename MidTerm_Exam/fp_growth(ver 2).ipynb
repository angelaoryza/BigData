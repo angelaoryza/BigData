{
  "nbformat": 4,
  "nbformat_minor": 0,
  "metadata": {
    "colab": {
      "provenance": [],
      "authorship_tag": "ABX9TyO4RgPpgbamVvx1JwKxkOx1",
      "include_colab_link": true
    },
    "kernelspec": {
      "name": "python3",
      "display_name": "Python 3"
    },
    "language_info": {
      "name": "python"
    }
  },
  "cells": [
    {
      "cell_type": "markdown",
      "metadata": {
        "id": "view-in-github",
        "colab_type": "text"
      },
      "source": [
        "<a href=\"https://colab.research.google.com/github/angelaoryza/BigData/blob/main/MidTerm_Exam/fp_growth(ver%202).ipynb\" target=\"_parent\"><img src=\"https://colab.research.google.com/assets/colab-badge.svg\" alt=\"Open In Colab\"/></a>"
      ]
    },
    {
      "cell_type": "markdown",
      "source": [
        "# CRISP-DM Methodology:\n",
        "1. Business Understanding\n",
        "2. Data Understanding\n",
        "3. Data Preparation\n",
        "4. Modeling\n",
        "5. Evaluation\n",
        "6. Deployment"
      ],
      "metadata": {
        "id": "tmpyrEjH2MBb"
      }
    },
    {
      "cell_type": "markdown",
      "source": [
        "## 1. Business Understanding\n",
        "\n",
        "- Find the frequent itemset based on the transaction data.\n",
        "- Build the recommendation systems."
      ],
      "metadata": {
        "id": "373RJzNb2Vwt"
      }
    },
    {
      "cell_type": "code",
      "execution_count": null,
      "metadata": {
        "colab": {
          "base_uri": "https://localhost:8080/"
        },
        "id": "FqJOg09h0asc",
        "outputId": "6f0cbbca-9e1b-48ec-8c03-9157ecfae434"
      },
      "outputs": [
        {
          "output_type": "stream",
          "name": "stdout",
          "text": [
            "--2023-04-14 02:15:54--  https://docs.google.com/uc?export=download&id=19OMIjRgshCsIZvUbpvrdbAKl6O2sRtV6\n",
            "Resolving docs.google.com (docs.google.com)... 172.217.219.113, 172.217.219.138, 172.217.219.102, ...\n",
            "Connecting to docs.google.com (docs.google.com)|172.217.219.113|:443... connected.\n",
            "HTTP request sent, awaiting response... 303 See Other\n",
            "Location: https://doc-00-88-docs.googleusercontent.com/docs/securesc/ha0ro937gcuc7l7deffksulhg5h7mbp1/7acqn9v4unui4jqqvp74dujledthm0fn/1681438500000/07765186029080978570/*/19OMIjRgshCsIZvUbpvrdbAKl6O2sRtV6?e=download&uuid=f692167e-057c-4822-9db7-3213ce81402f [following]\n",
            "Warning: wildcards not supported in HTTP.\n",
            "--2023-04-14 02:15:56--  https://doc-00-88-docs.googleusercontent.com/docs/securesc/ha0ro937gcuc7l7deffksulhg5h7mbp1/7acqn9v4unui4jqqvp74dujledthm0fn/1681438500000/07765186029080978570/*/19OMIjRgshCsIZvUbpvrdbAKl6O2sRtV6?e=download&uuid=f692167e-057c-4822-9db7-3213ce81402f\n",
            "Resolving doc-00-88-docs.googleusercontent.com (doc-00-88-docs.googleusercontent.com)... 172.217.219.132, 2607:f8b0:4001:c13::84\n",
            "Connecting to doc-00-88-docs.googleusercontent.com (doc-00-88-docs.googleusercontent.com)|172.217.219.132|:443... connected.\n",
            "HTTP request sent, awaiting response... 200 OK\n",
            "Length: 41204583 (39M) [text/csv]\n",
            "Saving to: ‘market_basket.csv’\n",
            "\n",
            "market_basket.csv   100%[===================>]  39.29M   188MB/s    in 0.2s    \n",
            "\n",
            "2023-04-14 02:15:56 (188 MB/s) - ‘market_basket.csv’ saved [41204583/41204583]\n",
            "\n"
          ]
        }
      ],
      "source": [
        "# Download the data from the repository\n",
        "\n",
        "!wget --no-check-certificate 'https://docs.google.com/uc?export=download&id=19OMIjRgshCsIZvUbpvrdbAKl6O2sRtV6' -O market_basket.csv"
      ]
    },
    {
      "cell_type": "markdown",
      "source": [
        "# 2. Data Understanding"
      ],
      "metadata": {
        "id": "uAWzYpYR2mTC"
      }
    },
    {
      "cell_type": "code",
      "source": [
        "# Install Apache Spark\n",
        "!pip install pyspark==3.1.2"
      ],
      "metadata": {
        "colab": {
          "base_uri": "https://localhost:8080/"
        },
        "id": "CM3fua2E2Uia",
        "outputId": "65e28ef6-755e-4977-bf77-0004c31dc0b4"
      },
      "execution_count": null,
      "outputs": [
        {
          "output_type": "stream",
          "name": "stdout",
          "text": [
            "Looking in indexes: https://pypi.org/simple, https://us-python.pkg.dev/colab-wheels/public/simple/\n",
            "Requirement already satisfied: pyspark==3.1.2 in /usr/local/lib/python3.9/dist-packages (3.1.2)\n",
            "Requirement already satisfied: py4j==0.10.9 in /usr/local/lib/python3.9/dist-packages (from pyspark==3.1.2) (0.10.9)\n"
          ]
        }
      ]
    },
    {
      "cell_type": "code",
      "source": [
        "# Import required libraries\n",
        "\n",
        "from pyspark.sql import SparkSession\n",
        "from pyspark.sql.functions import *\n",
        "from pyspark.ml.fpm import FPGrowth\n"
      ],
      "metadata": {
        "id": "oCr5lMAg2cQI"
      },
      "execution_count": null,
      "outputs": []
    },
    {
      "cell_type": "code",
      "source": [
        "!apt-get install openjdk-11-jdk-headless -qq > /dev/null\n",
        "import os\n",
        "os.environ[\"JAVA_HOME\"] = \"/usr/lib/jvm/java-11-openjdk-amd64\""
      ],
      "metadata": {
        "id": "oXkVWnBSiLNK"
      },
      "execution_count": null,
      "outputs": []
    },
    {
      "cell_type": "code",
      "source": [
        "!apt-get install openjdk-8-jdk-headless -qq > /dev/null\n",
        "!wget -q https://archive.apache.org/dist/spark/spark-3.1.2/spark-3.1.2-bin-hadoop3.2.tgz\n",
        "!tar xf spark-3.1.2-bin-hadoop3.2.tgz\n",
        "!pip install -q findspark"
      ],
      "metadata": {
        "id": "8MVbTxhKiN0Z"
      },
      "execution_count": null,
      "outputs": []
    },
    {
      "cell_type": "code",
      "source": [
        "\n",
        "os.environ[\"JAVA_HOME\"] = \"/usr/lib/jvm/java-8-openjdk-amd64\"\n",
        "os.environ[\"SPARK_HOME\"] = \"/content/spark-3.1.2-bin-hadoop3.2\""
      ],
      "metadata": {
        "id": "2IiVBIisiP1O"
      },
      "execution_count": null,
      "outputs": []
    },
    {
      "cell_type": "code",
      "source": [
        "!pip install -q findspark\n",
        "import findspark\n",
        "findspark.init()"
      ],
      "metadata": {
        "id": "Wrm6U48Jg8qI"
      },
      "execution_count": null,
      "outputs": []
    },
    {
      "cell_type": "code",
      "source": [
        "# Create Spark Session/Context\n",
        "spark = SparkSession.builder \\\n",
        "    .master(\"local\") \\\n",
        "    .appName(\"Frequent Itemset\") \\\n",
        "    .config(\"spark.some.config.option\", \"some-value\") \\\n",
        "    .config(\"spark.memory.offHeap.enabled\",\"true\") \\\n",
        "    .config(\"spark.memory.offHeap.size\",\"10g\") \\\n",
        "    .getOrCreate()"
      ],
      "metadata": {
        "id": "UTXz-skI2fs9"
      },
      "execution_count": null,
      "outputs": []
    },
    {
      "cell_type": "code",
      "source": [
        "# Import the data from CSV\n",
        "df = spark.read.option(\"header\", True).option(\"delimiter\", \";\").csv(\"market_basket.csv\")\n",
        "df.show()"
      ],
      "metadata": {
        "colab": {
          "base_uri": "https://localhost:8080/"
        },
        "id": "ziQTO3Mj2iTO",
        "outputId": "b361b947-ec72-4896-eb6d-e2b79caed884"
      },
      "execution_count": null,
      "outputs": [
        {
          "output_type": "stream",
          "name": "stdout",
          "text": [
            "+------+--------------------+--------+----------------+-----+----------+--------------+\n",
            "|BillNo|            Itemname|Quantity|            Date|Price|CustomerID|       Country|\n",
            "+------+--------------------+--------+----------------+-----+----------+--------------+\n",
            "|536365|WHITE HANGING HEA...|       6|01.12.2010 08:26| 2,55|     17850|United Kingdom|\n",
            "|536365| WHITE METAL LANTERN|       6|01.12.2010 08:26| 3,39|     17850|United Kingdom|\n",
            "|536365|CREAM CUPID HEART...|       8|01.12.2010 08:26| 2,75|     17850|United Kingdom|\n",
            "|536365|KNITTED UNION FLA...|       6|01.12.2010 08:26| 3,39|     17850|United Kingdom|\n",
            "|536365|RED WOOLLY HOTTIE...|       6|01.12.2010 08:26| 3,39|     17850|United Kingdom|\n",
            "|536365|SET 7 BABUSHKA NE...|       2|01.12.2010 08:26| 7,65|     17850|United Kingdom|\n",
            "|536365|GLASS STAR FROSTE...|       6|01.12.2010 08:26| 4,25|     17850|United Kingdom|\n",
            "|536366|HAND WARMER UNION...|       6|01.12.2010 08:28| 1,85|     17850|United Kingdom|\n",
            "|536366|HAND WARMER RED P...|       6|01.12.2010 08:28| 1,85|     17850|United Kingdom|\n",
            "|536367|ASSORTED COLOUR B...|      32|01.12.2010 08:34| 1,69|     13047|United Kingdom|\n",
            "|536367|POPPY'S PLAYHOUSE...|       6|01.12.2010 08:34|  2,1|     13047|United Kingdom|\n",
            "|536367|POPPY'S PLAYHOUSE...|       6|01.12.2010 08:34|  2,1|     13047|United Kingdom|\n",
            "|536367|FELTCRAFT PRINCES...|       8|01.12.2010 08:34| 3,75|     13047|United Kingdom|\n",
            "|536367|IVORY KNITTED MUG...|       6|01.12.2010 08:34| 1,65|     13047|United Kingdom|\n",
            "|536367|BOX OF 6 ASSORTED...|       6|01.12.2010 08:34| 4,25|     13047|United Kingdom|\n",
            "|536367|BOX OF VINTAGE JI...|       3|01.12.2010 08:34| 4,95|     13047|United Kingdom|\n",
            "|536367|BOX OF VINTAGE AL...|       2|01.12.2010 08:34| 9,95|     13047|United Kingdom|\n",
            "|536367|HOME BUILDING BLO...|       3|01.12.2010 08:34| 5,95|     13047|United Kingdom|\n",
            "|536367|LOVE BUILDING BLO...|       3|01.12.2010 08:34| 5,95|     13047|United Kingdom|\n",
            "|536367|RECIPE BOX WITH M...|       4|01.12.2010 08:34| 7,95|     13047|United Kingdom|\n",
            "+------+--------------------+--------+----------------+-----+----------+--------------+\n",
            "only showing top 20 rows\n",
            "\n"
          ]
        }
      ]
    },
    {
      "cell_type": "markdown",
      "source": [
        "## 3. Data Preparation\n",
        "\n",
        "We need to prepare the data into combination of [\"id\", \"items\"] = [1, [a, b, c]]"
      ],
      "metadata": {
        "id": "pL4IT5gC2wU5"
      }
    },
    {
      "cell_type": "code",
      "source": [
        "# Select only the first two column\n",
        "df_raw = df.select(\"BillNo\", \"Itemname\")\n",
        "df_raw.show()"
      ],
      "metadata": {
        "colab": {
          "base_uri": "https://localhost:8080/"
        },
        "id": "HS_sfhPA2012",
        "outputId": "c8e597b6-1c90-4a3e-d3ec-3a6bf85ead09"
      },
      "execution_count": null,
      "outputs": [
        {
          "output_type": "stream",
          "name": "stdout",
          "text": [
            "+------+--------------------+\n",
            "|BillNo|            Itemname|\n",
            "+------+--------------------+\n",
            "|536365|WHITE HANGING HEA...|\n",
            "|536365| WHITE METAL LANTERN|\n",
            "|536365|CREAM CUPID HEART...|\n",
            "|536365|KNITTED UNION FLA...|\n",
            "|536365|RED WOOLLY HOTTIE...|\n",
            "|536365|SET 7 BABUSHKA NE...|\n",
            "|536365|GLASS STAR FROSTE...|\n",
            "|536366|HAND WARMER UNION...|\n",
            "|536366|HAND WARMER RED P...|\n",
            "|536367|ASSORTED COLOUR B...|\n",
            "|536367|POPPY'S PLAYHOUSE...|\n",
            "|536367|POPPY'S PLAYHOUSE...|\n",
            "|536367|FELTCRAFT PRINCES...|\n",
            "|536367|IVORY KNITTED MUG...|\n",
            "|536367|BOX OF 6 ASSORTED...|\n",
            "|536367|BOX OF VINTAGE JI...|\n",
            "|536367|BOX OF VINTAGE AL...|\n",
            "|536367|HOME BUILDING BLO...|\n",
            "|536367|LOVE BUILDING BLO...|\n",
            "|536367|RECIPE BOX WITH M...|\n",
            "+------+--------------------+\n",
            "only showing top 20 rows\n",
            "\n"
          ]
        }
      ]
    },
    {
      "cell_type": "code",
      "source": [
        "# Before dropping the duplicates\n",
        "df_raw.count()"
      ],
      "metadata": {
        "colab": {
          "base_uri": "https://localhost:8080/"
        },
        "id": "lHwvgQYl23BY",
        "outputId": "9c1bd771-f3fc-4012-9bd4-d68e736556b1"
      },
      "execution_count": null,
      "outputs": [
        {
          "output_type": "execute_result",
          "data": {
            "text/plain": [
              "522064"
            ]
          },
          "metadata": {},
          "execution_count": 11
        }
      ]
    },
    {
      "cell_type": "code",
      "source": [
        "# Remove the duplicates\n",
        "df_raw = df_raw.dropDuplicates([\"BillNo\", \"Itemname\"])\n",
        "df_raw.count()"
      ],
      "metadata": {
        "colab": {
          "base_uri": "https://localhost:8080/"
        },
        "id": "bxY0uPiN25By",
        "outputId": "9139681d-2286-447e-c5a7-388a8814c67a"
      },
      "execution_count": null,
      "outputs": [
        {
          "output_type": "execute_result",
          "data": {
            "text/plain": [
              "511280"
            ]
          },
          "metadata": {},
          "execution_count": 12
        }
      ]
    },
    {
      "cell_type": "code",
      "source": [
        "# Convert into this format: [\"id\", \"items\"] = [1, [a, b, c]]\n",
        "# You can use groupBy, agg, and collect_list methods\n",
        "from pyspark.sql.functions import collect_list\n",
        "df_input = df_raw.groupBy(\"BillNo\").agg(collect_list('Itemname').alias('items'))\n",
        "df_input.show()"
      ],
      "metadata": {
        "colab": {
          "base_uri": "https://localhost:8080/"
        },
        "id": "0g3cjvOS26ld",
        "outputId": "78b273ce-67bf-4fa7-ad83-206e2673e865"
      },
      "execution_count": null,
      "outputs": [
        {
          "output_type": "stream",
          "name": "stdout",
          "text": [
            "+------+--------------------+\n",
            "|BillNo|               items|\n",
            "+------+--------------------+\n",
            "|536596|[WAKE UP COCKEREL...|\n",
            "|538041|                  []|\n",
            "|538184|[VINTAGE SNAP CAR...|\n",
            "|538517|[SMALL POPCORN HO...|\n",
            "|541783|[PLASTERS IN TIN ...|\n",
            "|544303|[PANTRY ROLLING P...|\n",
            "|547557|                  []|\n",
            "|548998|                  []|\n",
            "|549160|                  []|\n",
            "|551692|                  []|\n",
            "|552215|                  []|\n",
            "|552677|[SET/6 RED SPOTTY...|\n",
            "|554630|[MONEY BOX POCKET...|\n",
            "|557271|[ANTIQUE GLASS DR...|\n",
            "|557757|[SET OF 6 STRAWBE...|\n",
            "|558700|[FRIDGE MAGNETS L...|\n",
            "|562463|                  []|\n",
            "|562890|[SAVOY ART DECO C...|\n",
            "|562945|                  []|\n",
            "|566431|[CHRISTMAS TOILET...|\n",
            "+------+--------------------+\n",
            "only showing top 20 rows\n",
            "\n"
          ]
        }
      ]
    },
    {
      "cell_type": "markdown",
      "source": [
        "# 4. Modeling\n",
        "\n",
        "For the modeling, we are going to use some hyperparameters value and test the RMSES for each model so that we could get the best hyperparameter"
      ],
      "metadata": {
        "id": "LrPCQe-33Oxt"
      }
    },
    {
      "cell_type": "markdown",
      "source": [
        "## 4.1 Split the data into Training and Testing Set"
      ],
      "metadata": {
        "id": "U2aTObuYmqQe"
      }
    },
    {
      "cell_type": "code",
      "source": [
        "training, test = df_input.randomSplit([0.8, 0.2])"
      ],
      "metadata": {
        "id": "iOULdMtjmxZw"
      },
      "execution_count": null,
      "outputs": []
    },
    {
      "cell_type": "markdown",
      "source": [
        "## 4.2 Train the training data with each hyperparameter tuning\n",
        "We are going to use the value `[0.01, 0.05, and 1.00]` for minConfidence and  `[0.01, 0.05, and 1.00]` for minSupport"
      ],
      "metadata": {
        "id": "ikdCnwSRm6Jg"
      }
    },
    {
      "cell_type": "code",
      "source": [
        "# Train the data\n",
        "# 1. Create the instance\n",
        "#    We can control minSupport and minConfidence variables --> called HYPERPARAMETERS\n",
        "#    We can use algorithm like Hill Climbing, Grid Search and so on for optimization\n",
        "#    Or we can also use trial-and-error\n",
        "\n",
        "#  500.000 data --> minSupport 0.5 --> 250.000 transactions --> IMPOSSIBLE\n",
        "models = []\n",
        "minSupport = [0.01, 0.05, 1.00]\n",
        "minConfidence = [0.01, 0.05, 1.00]\n",
        "\n",
        "for ms in minSupport:\n",
        "  for mc in minConfidence:\n",
        "    fpGrowth = FPGrowth(itemsCol=\"items\", minSupport=ms, minConfidence=mc)\n",
        "    model_one = fpGrowth.fit(training)\n",
        "    models.append([model_one, ms, mc])\n"
      ],
      "metadata": {
        "id": "JHW28D0w28Tu"
      },
      "execution_count": 40,
      "outputs": []
    },
    {
      "cell_type": "markdown",
      "source": [
        "## 4.3 Predicting the test data and evaluate the SSE"
      ],
      "metadata": {
        "id": "7lfFuIJ8oWNM"
      }
    },
    {
      "cell_type": "code",
      "source": [
        "# Display generated association rules.\n",
        "for model in models:\n",
        "  model[0].associationRules.show()"
      ],
      "metadata": {
        "colab": {
          "base_uri": "https://localhost:8080/"
        },
        "id": "-BuFEHIyocoY",
        "outputId": "a830bc93-2c80-4128-dc84-7038a9b4ed7a"
      },
      "execution_count": 41,
      "outputs": [
        {
          "output_type": "stream",
          "name": "stdout",
          "text": [
            "+--------------------+--------------------+-------------------+------------------+--------------------+\n",
            "|          antecedent|          consequent|         confidence|              lift|             support|\n",
            "+--------------------+--------------------+-------------------+------------------+--------------------+\n",
            "|[HOT WATER BOTTLE...|[LOVE HOT WATER B...|0.29516129032258065|14.198077956989248|0.010567650285846279|\n",
            "|[HOT WATER BOTTLE...|[CHOCOLATE HOT WA...| 0.3387096774193548|  8.60034528426828|0.012126811803430155|\n",
            "|[HOT WATER BOTTLE...|[HOT WATER BOTTLE...|0.33548387096774196|11.689284091646655|  0.0120113183576832|\n",
            "|[LUNCH BAG SUKI D...|[LUNCH BAG RED RE...| 0.6390977443609023| 9.027125317371732|0.014725414332736617|\n",
            "|[LUNCH BAG SUKI D...|[LUNCH BAG CARS B...|  0.543859649122807|10.605875612454561|0.012531038863544494|\n",
            "|[LUNCH BAG SUKI D...|[LUNCH BAG SPACEB...| 0.5238095238095238|10.101124191324637|0.012069065080556678|\n",
            "|[LUNCH BAG SUKI D...|[LUNCH BAG PINK P...|0.48872180451127817| 9.933328038405872|0.011260610960328002|\n",
            "|[LUNCH BAG SUKI D...|[LUNCH BAG WOODLAND]|0.47869674185463656|10.323277059398183|0.011029624068834093|\n",
            "|[LUNCH BAG SUKI D...|[LUNCH BAG APPLE ...| 0.5012531328320802|10.959849117743854|0.011549344574695386|\n",
            "|[SMALL HEART MEAS...|    [DOTCOM POSTAGE]| 0.4715447154471545|14.846799704360679|0.010047929779984985|\n",
            "|[PAPER CHAIN KIT ...|[PAPER CHAIN KIT ...| 0.6863354037267081|13.046399765461477|0.025524051510076803|\n",
            "|[PAPER CHAIN KIT ...|[60 CAKE CASES VI...| 0.3105590062111801|11.298214938149172|0.011549344574695386|\n",
            "|[PAPER CHAIN KIT ...|[SET OF 20 VINTAG...| 0.2795031055900621|10.276338173042685|0.010394410117225847|\n",
            "|[JUMBO BAG SPACEB...|[JUMBO STORAGE BA...| 0.5795795795795796| 10.68858315184194|0.011145117514581047|\n",
            "|[JUMBO BAG SPACEB...|[JUMBO BAG PINK P...| 0.5975975975975976|10.813581606685055|0.011491597851821909|\n",
            "|[JUMBO SHOPPER VI...|[JUMBO STORAGE BA...| 0.4489571899012075| 8.279650327496496|0.023618409655252064|\n",
            "|[JUMBO SHOPPER VI...|[LUNCH BAG RED RE...| 0.2414928649835346|3.4110374738334976|0.012704279032164924|\n",
            "|[JUMBO SHOPPER VI...|[JUMBO BAG RED RE...| 0.5697036223929748|5.9755043179764655|0.029970549171334526|\n",
            "|[JUMBO SHOPPER VI...|[JUMBO BAG PINK P...|0.38529088913282106| 6.971872860097244|0.020269099728590402|\n",
            "|[JUMBO SHOPPER VI...|[WHITE HANGING HE...|0.22722283205268934| 2.229358517085791|0.011953571634809725|\n",
            "+--------------------+--------------------+-------------------+------------------+--------------------+\n",
            "only showing top 20 rows\n",
            "\n",
            "+--------------------+--------------------+-------------------+------------------+--------------------+\n",
            "|          antecedent|          consequent|         confidence|              lift|             support|\n",
            "+--------------------+--------------------+-------------------+------------------+--------------------+\n",
            "|[HOT WATER BOTTLE...|[LOVE HOT WATER B...|0.29516129032258065|14.198077956989248|0.010567650285846279|\n",
            "|[HOT WATER BOTTLE...|[CHOCOLATE HOT WA...| 0.3387096774193548|  8.60034528426828|0.012126811803430155|\n",
            "|[HOT WATER BOTTLE...|[HOT WATER BOTTLE...|0.33548387096774196|11.689284091646655|  0.0120113183576832|\n",
            "|[LUNCH BAG SUKI D...|[LUNCH BAG RED RE...| 0.6390977443609023| 9.027125317371732|0.014725414332736617|\n",
            "|[LUNCH BAG SUKI D...|[LUNCH BAG CARS B...|  0.543859649122807|10.605875612454561|0.012531038863544494|\n",
            "|[LUNCH BAG SUKI D...|[LUNCH BAG SPACEB...| 0.5238095238095238|10.101124191324637|0.012069065080556678|\n",
            "|[LUNCH BAG SUKI D...|[LUNCH BAG PINK P...|0.48872180451127817| 9.933328038405872|0.011260610960328002|\n",
            "|[LUNCH BAG SUKI D...|[LUNCH BAG WOODLAND]|0.47869674185463656|10.323277059398183|0.011029624068834093|\n",
            "|[LUNCH BAG SUKI D...|[LUNCH BAG APPLE ...| 0.5012531328320802|10.959849117743854|0.011549344574695386|\n",
            "|[SMALL HEART MEAS...|    [DOTCOM POSTAGE]| 0.4715447154471545|14.846799704360679|0.010047929779984985|\n",
            "|[PAPER CHAIN KIT ...|[PAPER CHAIN KIT ...| 0.6863354037267081|13.046399765461477|0.025524051510076803|\n",
            "|[PAPER CHAIN KIT ...|[60 CAKE CASES VI...| 0.3105590062111801|11.298214938149172|0.011549344574695386|\n",
            "|[PAPER CHAIN KIT ...|[SET OF 20 VINTAG...| 0.2795031055900621|10.276338173042685|0.010394410117225847|\n",
            "|[JUMBO BAG SPACEB...|[JUMBO STORAGE BA...| 0.5795795795795796| 10.68858315184194|0.011145117514581047|\n",
            "|[JUMBO BAG SPACEB...|[JUMBO BAG PINK P...| 0.5975975975975976|10.813581606685055|0.011491597851821909|\n",
            "|[JUMBO SHOPPER VI...|[JUMBO STORAGE BA...| 0.4489571899012075| 8.279650327496496|0.023618409655252064|\n",
            "|[JUMBO SHOPPER VI...|[LUNCH BAG RED RE...| 0.2414928649835346|3.4110374738334976|0.012704279032164924|\n",
            "|[JUMBO SHOPPER VI...|[JUMBO BAG RED RE...| 0.5697036223929748|5.9755043179764655|0.029970549171334526|\n",
            "|[JUMBO SHOPPER VI...|[JUMBO BAG PINK P...|0.38529088913282106| 6.971872860097244|0.020269099728590402|\n",
            "|[JUMBO SHOPPER VI...|[WHITE HANGING HE...|0.22722283205268934| 2.229358517085791|0.011953571634809725|\n",
            "+--------------------+--------------------+-------------------+------------------+--------------------+\n",
            "only showing top 20 rows\n",
            "\n",
            "+----------+----------+----------+----+-------+\n",
            "|antecedent|consequent|confidence|lift|support|\n",
            "+----------+----------+----------+----+-------+\n",
            "+----------+----------+----------+----+-------+\n",
            "\n",
            "+----------+----------+----------+----+-------+\n",
            "|antecedent|consequent|confidence|lift|support|\n",
            "+----------+----------+----------+----+-------+\n",
            "+----------+----------+----------+----+-------+\n",
            "\n",
            "+----------+----------+----------+----+-------+\n",
            "|antecedent|consequent|confidence|lift|support|\n",
            "+----------+----------+----------+----+-------+\n",
            "+----------+----------+----------+----+-------+\n",
            "\n",
            "+----------+----------+----------+----+-------+\n",
            "|antecedent|consequent|confidence|lift|support|\n",
            "+----------+----------+----------+----+-------+\n",
            "+----------+----------+----------+----+-------+\n",
            "\n",
            "+----------+----------+----------+----+-------+\n",
            "|antecedent|consequent|confidence|lift|support|\n",
            "+----------+----------+----------+----+-------+\n",
            "+----------+----------+----------+----+-------+\n",
            "\n",
            "+----------+----------+----------+----+-------+\n",
            "|antecedent|consequent|confidence|lift|support|\n",
            "+----------+----------+----------+----+-------+\n",
            "+----------+----------+----------+----+-------+\n",
            "\n",
            "+----------+----------+----------+----+-------+\n",
            "|antecedent|consequent|confidence|lift|support|\n",
            "+----------+----------+----------+----+-------+\n",
            "+----------+----------+----------+----+-------+\n",
            "\n"
          ]
        }
      ]
    },
    {
      "cell_type": "markdown",
      "source": [
        "🪄 There are only two models that will print results. This is because the next 7 models use too high minimum support score. This means that the rules must be high enough to surpass the threshold to be printed out.\n",
        "\n",
        "🪄  Since all of the rules have lower minSupport values than the 7 other models' threshold, the result for association rules will be null\n",
        "\n",
        "🪄  Based on the result, we would choose the model with **minConfidence = 0.05** and **minSupport = 0.01**. The higher the support and confidence level, the more accurate the rules will be"
      ],
      "metadata": {
        "id": "yE1nT9dQ1xPD"
      }
    },
    {
      "cell_type": "code",
      "source": [
        "fpGrowth = models[1][0].associationRules"
      ],
      "metadata": {
        "id": "Q3szaOAR09cw"
      },
      "execution_count": 47,
      "outputs": []
    },
    {
      "cell_type": "markdown",
      "source": [
        "## 5. Evaluation\n",
        "\n",
        "We take a look into several metrics like min_support, confidence, lift, antencedence and consequent"
      ],
      "metadata": {
        "id": "_pgFoZxm3UNg"
      }
    },
    {
      "cell_type": "code",
      "source": [
        "results = models[1][0].freqItemsets"
      ],
      "metadata": {
        "id": "hhTjnX9J3MEx"
      },
      "execution_count": 48,
      "outputs": []
    },
    {
      "cell_type": "code",
      "source": [
        "fpGrowth.show()"
      ],
      "metadata": {
        "colab": {
          "base_uri": "https://localhost:8080/"
        },
        "id": "9epMZRiV3aNu",
        "outputId": "a235f36a-d48f-40c8-83dc-3d55365ec209"
      },
      "execution_count": 49,
      "outputs": [
        {
          "output_type": "stream",
          "name": "stdout",
          "text": [
            "+--------------------+--------------------+-------------------+------------------+--------------------+\n",
            "|          antecedent|          consequent|         confidence|              lift|             support|\n",
            "+--------------------+--------------------+-------------------+------------------+--------------------+\n",
            "|[HOT WATER BOTTLE...|[LOVE HOT WATER B...|0.29516129032258065|14.198077956989248|0.010567650285846279|\n",
            "|[HOT WATER BOTTLE...|[CHOCOLATE HOT WA...| 0.3387096774193548|  8.60034528426828|0.012126811803430155|\n",
            "|[HOT WATER BOTTLE...|[HOT WATER BOTTLE...|0.33548387096774196|11.689284091646655|  0.0120113183576832|\n",
            "|[LUNCH BAG SUKI D...|[LUNCH BAG RED RE...| 0.6390977443609023| 9.027125317371732|0.014725414332736617|\n",
            "|[LUNCH BAG SUKI D...|[LUNCH BAG CARS B...|  0.543859649122807|10.605875612454561|0.012531038863544494|\n",
            "|[LUNCH BAG SUKI D...|[LUNCH BAG SPACEB...| 0.5238095238095238|10.101124191324637|0.012069065080556678|\n",
            "|[LUNCH BAG SUKI D...|[LUNCH BAG PINK P...|0.48872180451127817| 9.933328038405872|0.011260610960328002|\n",
            "|[LUNCH BAG SUKI D...|[LUNCH BAG WOODLAND]|0.47869674185463656|10.323277059398183|0.011029624068834093|\n",
            "|[LUNCH BAG SUKI D...|[LUNCH BAG APPLE ...| 0.5012531328320802|10.959849117743854|0.011549344574695386|\n",
            "|[SMALL HEART MEAS...|    [DOTCOM POSTAGE]| 0.4715447154471545|14.846799704360679|0.010047929779984985|\n",
            "|[PAPER CHAIN KIT ...|[PAPER CHAIN KIT ...| 0.6863354037267081|13.046399765461477|0.025524051510076803|\n",
            "|[PAPER CHAIN KIT ...|[60 CAKE CASES VI...| 0.3105590062111801|11.298214938149172|0.011549344574695386|\n",
            "|[PAPER CHAIN KIT ...|[SET OF 20 VINTAG...| 0.2795031055900621|10.276338173042685|0.010394410117225847|\n",
            "|[JUMBO BAG SPACEB...|[JUMBO STORAGE BA...| 0.5795795795795796| 10.68858315184194|0.011145117514581047|\n",
            "|[JUMBO BAG SPACEB...|[JUMBO BAG PINK P...| 0.5975975975975976|10.813581606685055|0.011491597851821909|\n",
            "|[JUMBO SHOPPER VI...|[JUMBO STORAGE BA...| 0.4489571899012075| 8.279650327496496|0.023618409655252064|\n",
            "|[JUMBO SHOPPER VI...|[LUNCH BAG RED RE...| 0.2414928649835346|3.4110374738334976|0.012704279032164924|\n",
            "|[JUMBO SHOPPER VI...|[JUMBO BAG RED RE...| 0.5697036223929748|5.9755043179764655|0.029970549171334526|\n",
            "|[JUMBO SHOPPER VI...|[JUMBO BAG PINK P...|0.38529088913282106| 6.971872860097244|0.020269099728590402|\n",
            "|[JUMBO SHOPPER VI...|[WHITE HANGING HE...|0.22722283205268934| 2.229358517085791|0.011953571634809725|\n",
            "+--------------------+--------------------+-------------------+------------------+--------------------+\n",
            "only showing top 20 rows\n",
            "\n"
          ]
        }
      ]
    },
    {
      "cell_type": "code",
      "source": [
        "results.show()"
      ],
      "metadata": {
        "colab": {
          "base_uri": "https://localhost:8080/"
        },
        "id": "wrITmINX3dHI",
        "outputId": "90f12d4f-65de-4abe-8379-87ad7a09a359"
      },
      "execution_count": 50,
      "outputs": [
        {
          "output_type": "stream",
          "name": "stdout",
          "text": [
            "+--------------------+----+\n",
            "|               items|freq|\n",
            "+--------------------+----+\n",
            "|[3 STRIPEY MICE F...| 375|\n",
            "|[T-LIGHT GLASS FL...| 266|\n",
            "|[DECORATIVE WICKE...| 195|\n",
            "|[WHITE HANGING HE...|1765|\n",
            "|[JUMBO BAG RED RE...|1651|\n",
            "|[JUMBO BAG RED RE...| 346|\n",
            "|[4 TRADITIONAL SP...| 374|\n",
            "|[RED RETROSPOT SM...| 266|\n",
            "|[PAPER BUNTING CO...| 195|\n",
            "|[REGENCY CAKESTAN...|1523|\n",
            "|[REGENCY CAKESTAN...| 222|\n",
            "|[REGENCY CAKESTAN...| 270|\n",
            "|[NATURAL SLATE CH...| 372|\n",
            "|[RED RETROSPOT RO...| 265|\n",
            "|[SKETCHBOOK MAGNE...| 195|\n",
            "|[DOUGHNUT LIP GLOSS]| 265|\n",
            "|[RED RETROSPOT CH...| 194|\n",
            "|     [PARTY BUNTING]|1330|\n",
            "|[PARTY BUNTING, R...| 297|\n",
            "|[PARTY BUNTING, J...| 255|\n",
            "+--------------------+----+\n",
            "only showing top 20 rows\n",
            "\n"
          ]
        }
      ]
    },
    {
      "cell_type": "code",
      "source": [
        "# Convert the Spark DataFrame back to Pandas DataFrame using Arrow\n",
        "result_pdf = results.select(\"*\").toPandas()\n",
        "result_pdf.head()"
      ],
      "metadata": {
        "id": "OPQbSznUrgrc",
        "colab": {
          "base_uri": "https://localhost:8080/",
          "height": 206
        },
        "outputId": "835c89a9-b7de-481f-8646-25ec2d0f5749"
      },
      "execution_count": 51,
      "outputs": [
        {
          "output_type": "execute_result",
          "data": {
            "text/plain": [
              "                                  items  freq\n",
              "0            [3 STRIPEY MICE FELTCRAFT]   375\n",
              "1        [T-LIGHT GLASS FLUTED ANTIQUE]   266\n",
              "2       [DECORATIVE WICKER HEART LARGE]   195\n",
              "3  [WHITE HANGING HEART T-LIGHT HOLDER]  1765\n",
              "4             [JUMBO BAG RED RETROSPOT]  1651"
            ],
            "text/html": [
              "\n",
              "  <div id=\"df-5b735dff-7743-441d-a74d-204a30545ecd\">\n",
              "    <div class=\"colab-df-container\">\n",
              "      <div>\n",
              "<style scoped>\n",
              "    .dataframe tbody tr th:only-of-type {\n",
              "        vertical-align: middle;\n",
              "    }\n",
              "\n",
              "    .dataframe tbody tr th {\n",
              "        vertical-align: top;\n",
              "    }\n",
              "\n",
              "    .dataframe thead th {\n",
              "        text-align: right;\n",
              "    }\n",
              "</style>\n",
              "<table border=\"1\" class=\"dataframe\">\n",
              "  <thead>\n",
              "    <tr style=\"text-align: right;\">\n",
              "      <th></th>\n",
              "      <th>items</th>\n",
              "      <th>freq</th>\n",
              "    </tr>\n",
              "  </thead>\n",
              "  <tbody>\n",
              "    <tr>\n",
              "      <th>0</th>\n",
              "      <td>[3 STRIPEY MICE FELTCRAFT]</td>\n",
              "      <td>375</td>\n",
              "    </tr>\n",
              "    <tr>\n",
              "      <th>1</th>\n",
              "      <td>[T-LIGHT GLASS FLUTED ANTIQUE]</td>\n",
              "      <td>266</td>\n",
              "    </tr>\n",
              "    <tr>\n",
              "      <th>2</th>\n",
              "      <td>[DECORATIVE WICKER HEART LARGE]</td>\n",
              "      <td>195</td>\n",
              "    </tr>\n",
              "    <tr>\n",
              "      <th>3</th>\n",
              "      <td>[WHITE HANGING HEART T-LIGHT HOLDER]</td>\n",
              "      <td>1765</td>\n",
              "    </tr>\n",
              "    <tr>\n",
              "      <th>4</th>\n",
              "      <td>[JUMBO BAG RED RETROSPOT]</td>\n",
              "      <td>1651</td>\n",
              "    </tr>\n",
              "  </tbody>\n",
              "</table>\n",
              "</div>\n",
              "      <button class=\"colab-df-convert\" onclick=\"convertToInteractive('df-5b735dff-7743-441d-a74d-204a30545ecd')\"\n",
              "              title=\"Convert this dataframe to an interactive table.\"\n",
              "              style=\"display:none;\">\n",
              "        \n",
              "  <svg xmlns=\"http://www.w3.org/2000/svg\" height=\"24px\"viewBox=\"0 0 24 24\"\n",
              "       width=\"24px\">\n",
              "    <path d=\"M0 0h24v24H0V0z\" fill=\"none\"/>\n",
              "    <path d=\"M18.56 5.44l.94 2.06.94-2.06 2.06-.94-2.06-.94-.94-2.06-.94 2.06-2.06.94zm-11 1L8.5 8.5l.94-2.06 2.06-.94-2.06-.94L8.5 2.5l-.94 2.06-2.06.94zm10 10l.94 2.06.94-2.06 2.06-.94-2.06-.94-.94-2.06-.94 2.06-2.06.94z\"/><path d=\"M17.41 7.96l-1.37-1.37c-.4-.4-.92-.59-1.43-.59-.52 0-1.04.2-1.43.59L10.3 9.45l-7.72 7.72c-.78.78-.78 2.05 0 2.83L4 21.41c.39.39.9.59 1.41.59.51 0 1.02-.2 1.41-.59l7.78-7.78 2.81-2.81c.8-.78.8-2.07 0-2.86zM5.41 20L4 18.59l7.72-7.72 1.47 1.35L5.41 20z\"/>\n",
              "  </svg>\n",
              "      </button>\n",
              "      \n",
              "  <style>\n",
              "    .colab-df-container {\n",
              "      display:flex;\n",
              "      flex-wrap:wrap;\n",
              "      gap: 12px;\n",
              "    }\n",
              "\n",
              "    .colab-df-convert {\n",
              "      background-color: #E8F0FE;\n",
              "      border: none;\n",
              "      border-radius: 50%;\n",
              "      cursor: pointer;\n",
              "      display: none;\n",
              "      fill: #1967D2;\n",
              "      height: 32px;\n",
              "      padding: 0 0 0 0;\n",
              "      width: 32px;\n",
              "    }\n",
              "\n",
              "    .colab-df-convert:hover {\n",
              "      background-color: #E2EBFA;\n",
              "      box-shadow: 0px 1px 2px rgba(60, 64, 67, 0.3), 0px 1px 3px 1px rgba(60, 64, 67, 0.15);\n",
              "      fill: #174EA6;\n",
              "    }\n",
              "\n",
              "    [theme=dark] .colab-df-convert {\n",
              "      background-color: #3B4455;\n",
              "      fill: #D2E3FC;\n",
              "    }\n",
              "\n",
              "    [theme=dark] .colab-df-convert:hover {\n",
              "      background-color: #434B5C;\n",
              "      box-shadow: 0px 1px 3px 1px rgba(0, 0, 0, 0.15);\n",
              "      filter: drop-shadow(0px 1px 2px rgba(0, 0, 0, 0.3));\n",
              "      fill: #FFFFFF;\n",
              "    }\n",
              "  </style>\n",
              "\n",
              "      <script>\n",
              "        const buttonEl =\n",
              "          document.querySelector('#df-5b735dff-7743-441d-a74d-204a30545ecd button.colab-df-convert');\n",
              "        buttonEl.style.display =\n",
              "          google.colab.kernel.accessAllowed ? 'block' : 'none';\n",
              "\n",
              "        async function convertToInteractive(key) {\n",
              "          const element = document.querySelector('#df-5b735dff-7743-441d-a74d-204a30545ecd');\n",
              "          const dataTable =\n",
              "            await google.colab.kernel.invokeFunction('convertToInteractive',\n",
              "                                                     [key], {});\n",
              "          if (!dataTable) return;\n",
              "\n",
              "          const docLinkHtml = 'Like what you see? Visit the ' +\n",
              "            '<a target=\"_blank\" href=https://colab.research.google.com/notebooks/data_table.ipynb>data table notebook</a>'\n",
              "            + ' to learn more about interactive tables.';\n",
              "          element.innerHTML = '';\n",
              "          dataTable['output_type'] = 'display_data';\n",
              "          await google.colab.output.renderOutput(dataTable, element);\n",
              "          const docLink = document.createElement('div');\n",
              "          docLink.innerHTML = docLinkHtml;\n",
              "          element.appendChild(docLink);\n",
              "        }\n",
              "      </script>\n",
              "    </div>\n",
              "  </div>\n",
              "  "
            ]
          },
          "metadata": {},
          "execution_count": 51
        }
      ]
    },
    {
      "cell_type": "code",
      "source": [
        "from google.colab import files\n",
        "result_pdf.to_excel('result.xlsx')\n",
        "files.download('result.xlsx')"
      ],
      "metadata": {
        "colab": {
          "base_uri": "https://localhost:8080/",
          "height": 17
        },
        "id": "0XuPE8UA3cCU",
        "outputId": "b757af95-bd11-4688-ec09-4873bf557bed"
      },
      "execution_count": 53,
      "outputs": [
        {
          "output_type": "display_data",
          "data": {
            "text/plain": [
              "<IPython.core.display.Javascript object>"
            ],
            "application/javascript": [
              "\n",
              "    async function download(id, filename, size) {\n",
              "      if (!google.colab.kernel.accessAllowed) {\n",
              "        return;\n",
              "      }\n",
              "      const div = document.createElement('div');\n",
              "      const label = document.createElement('label');\n",
              "      label.textContent = `Downloading \"${filename}\": `;\n",
              "      div.appendChild(label);\n",
              "      const progress = document.createElement('progress');\n",
              "      progress.max = size;\n",
              "      div.appendChild(progress);\n",
              "      document.body.appendChild(div);\n",
              "\n",
              "      const buffers = [];\n",
              "      let downloaded = 0;\n",
              "\n",
              "      const channel = await google.colab.kernel.comms.open(id);\n",
              "      // Send a message to notify the kernel that we're ready.\n",
              "      channel.send({})\n",
              "\n",
              "      for await (const message of channel.messages) {\n",
              "        // Send a message to notify the kernel that we're ready.\n",
              "        channel.send({})\n",
              "        if (message.buffers) {\n",
              "          for (const buffer of message.buffers) {\n",
              "            buffers.push(buffer);\n",
              "            downloaded += buffer.byteLength;\n",
              "            progress.value = downloaded;\n",
              "          }\n",
              "        }\n",
              "      }\n",
              "      const blob = new Blob(buffers, {type: 'application/binary'});\n",
              "      const a = document.createElement('a');\n",
              "      a.href = window.URL.createObjectURL(blob);\n",
              "      a.download = filename;\n",
              "      div.appendChild(a);\n",
              "      a.click();\n",
              "      div.remove();\n",
              "    }\n",
              "  "
            ]
          },
          "metadata": {}
        },
        {
          "output_type": "display_data",
          "data": {
            "text/plain": [
              "<IPython.core.display.Javascript object>"
            ],
            "application/javascript": [
              "download(\"download_d6964ab2-c3a7-4cf3-a0cf-a4f7acf30503\", \"result.xlsx\", 44040)"
            ]
          },
          "metadata": {}
        }
      ]
    },
    {
      "cell_type": "code",
      "source": [
        "# Display generated association rules.\n",
        "models[1][0].associationRules.show()"
      ],
      "metadata": {
        "colab": {
          "base_uri": "https://localhost:8080/"
        },
        "id": "JyOX8Ab13dS7",
        "outputId": "b3b0ef07-60cf-43b9-8f7e-a54f0be17eb5"
      },
      "execution_count": 55,
      "outputs": [
        {
          "output_type": "stream",
          "name": "stdout",
          "text": [
            "+--------------------+--------------------+-------------------+------------------+--------------------+\n",
            "|          antecedent|          consequent|         confidence|              lift|             support|\n",
            "+--------------------+--------------------+-------------------+------------------+--------------------+\n",
            "|[HOT WATER BOTTLE...|[LOVE HOT WATER B...|0.29516129032258065|14.198077956989248|0.010567650285846279|\n",
            "|[HOT WATER BOTTLE...|[CHOCOLATE HOT WA...| 0.3387096774193548|  8.60034528426828|0.012126811803430155|\n",
            "|[HOT WATER BOTTLE...|[HOT WATER BOTTLE...|0.33548387096774196|11.689284091646655|  0.0120113183576832|\n",
            "|[LUNCH BAG SUKI D...|[LUNCH BAG RED RE...| 0.6390977443609023| 9.027125317371732|0.014725414332736617|\n",
            "|[LUNCH BAG SUKI D...|[LUNCH BAG CARS B...|  0.543859649122807|10.605875612454561|0.012531038863544494|\n",
            "|[LUNCH BAG SUKI D...|[LUNCH BAG SPACEB...| 0.5238095238095238|10.101124191324637|0.012069065080556678|\n",
            "|[LUNCH BAG SUKI D...|[LUNCH BAG PINK P...|0.48872180451127817| 9.933328038405872|0.011260610960328002|\n",
            "|[LUNCH BAG SUKI D...|[LUNCH BAG WOODLAND]|0.47869674185463656|10.323277059398183|0.011029624068834093|\n",
            "|[LUNCH BAG SUKI D...|[LUNCH BAG APPLE ...| 0.5012531328320802|10.959849117743854|0.011549344574695386|\n",
            "|[SMALL HEART MEAS...|    [DOTCOM POSTAGE]| 0.4715447154471545|14.846799704360679|0.010047929779984985|\n",
            "|[PAPER CHAIN KIT ...|[PAPER CHAIN KIT ...| 0.6863354037267081|13.046399765461477|0.025524051510076803|\n",
            "|[PAPER CHAIN KIT ...|[60 CAKE CASES VI...| 0.3105590062111801|11.298214938149172|0.011549344574695386|\n",
            "|[PAPER CHAIN KIT ...|[SET OF 20 VINTAG...| 0.2795031055900621|10.276338173042685|0.010394410117225847|\n",
            "|[JUMBO BAG SPACEB...|[JUMBO STORAGE BA...| 0.5795795795795796| 10.68858315184194|0.011145117514581047|\n",
            "|[JUMBO BAG SPACEB...|[JUMBO BAG PINK P...| 0.5975975975975976|10.813581606685055|0.011491597851821909|\n",
            "|[JUMBO SHOPPER VI...|[JUMBO STORAGE BA...| 0.4489571899012075| 8.279650327496496|0.023618409655252064|\n",
            "|[JUMBO SHOPPER VI...|[LUNCH BAG RED RE...| 0.2414928649835346|3.4110374738334976|0.012704279032164924|\n",
            "|[JUMBO SHOPPER VI...|[JUMBO BAG RED RE...| 0.5697036223929748|5.9755043179764655|0.029970549171334526|\n",
            "|[JUMBO SHOPPER VI...|[JUMBO BAG PINK P...|0.38529088913282106| 6.971872860097244|0.020269099728590402|\n",
            "|[JUMBO SHOPPER VI...|[WHITE HANGING HE...|0.22722283205268934| 2.229358517085791|0.011953571634809725|\n",
            "+--------------------+--------------------+-------------------+------------------+--------------------+\n",
            "only showing top 20 rows\n",
            "\n"
          ]
        }
      ]
    },
    {
      "cell_type": "code",
      "source": [
        "# Display generated association rules.\n",
        "rules = models[1][0].associationRules"
      ],
      "metadata": {
        "id": "L2WBigNZ4yBF"
      },
      "execution_count": 56,
      "outputs": []
    },
    {
      "cell_type": "code",
      "source": [
        "# Convert the Spark DataFrame back to Pandas DataFrame using Arrow\n",
        "rules_pdf = rules.select(\"*\").toPandas()\n",
        "rules_pdf.head()"
      ],
      "metadata": {
        "colab": {
          "base_uri": "https://localhost:8080/",
          "height": 206
        },
        "id": "AqDZ5KDz41Vh",
        "outputId": "a4869d7b-a030-40ed-fda8-44ddcbff6c01"
      },
      "execution_count": 57,
      "outputs": [
        {
          "output_type": "execute_result",
          "data": {
            "text/plain": [
              "                                         antecedent  \\\n",
              "0                      [HOT WATER BOTTLE KEEP CALM]   \n",
              "1                      [HOT WATER BOTTLE KEEP CALM]   \n",
              "2                      [HOT WATER BOTTLE KEEP CALM]   \n",
              "3  [LUNCH BAG SUKI DESIGN, LUNCH BAG  BLACK SKULL.]   \n",
              "4  [LUNCH BAG SUKI DESIGN, LUNCH BAG  BLACK SKULL.]   \n",
              "\n",
              "                            consequent  confidence       lift   support  \n",
              "0              [LOVE HOT WATER BOTTLE]    0.295161  14.198078  0.010568  \n",
              "1         [CHOCOLATE HOT WATER BOTTLE]    0.338710   8.600345  0.012127  \n",
              "2  [HOT WATER BOTTLE TEA AND SYMPATHY]    0.335484  11.689284  0.012011  \n",
              "3            [LUNCH BAG RED RETROSPOT]    0.639098   9.027125  0.014725  \n",
              "4                [LUNCH BAG CARS BLUE]    0.543860  10.605876  0.012531  "
            ],
            "text/html": [
              "\n",
              "  <div id=\"df-adc52281-a6f7-47f7-8a67-cd796e27c7d8\">\n",
              "    <div class=\"colab-df-container\">\n",
              "      <div>\n",
              "<style scoped>\n",
              "    .dataframe tbody tr th:only-of-type {\n",
              "        vertical-align: middle;\n",
              "    }\n",
              "\n",
              "    .dataframe tbody tr th {\n",
              "        vertical-align: top;\n",
              "    }\n",
              "\n",
              "    .dataframe thead th {\n",
              "        text-align: right;\n",
              "    }\n",
              "</style>\n",
              "<table border=\"1\" class=\"dataframe\">\n",
              "  <thead>\n",
              "    <tr style=\"text-align: right;\">\n",
              "      <th></th>\n",
              "      <th>antecedent</th>\n",
              "      <th>consequent</th>\n",
              "      <th>confidence</th>\n",
              "      <th>lift</th>\n",
              "      <th>support</th>\n",
              "    </tr>\n",
              "  </thead>\n",
              "  <tbody>\n",
              "    <tr>\n",
              "      <th>0</th>\n",
              "      <td>[HOT WATER BOTTLE KEEP CALM]</td>\n",
              "      <td>[LOVE HOT WATER BOTTLE]</td>\n",
              "      <td>0.295161</td>\n",
              "      <td>14.198078</td>\n",
              "      <td>0.010568</td>\n",
              "    </tr>\n",
              "    <tr>\n",
              "      <th>1</th>\n",
              "      <td>[HOT WATER BOTTLE KEEP CALM]</td>\n",
              "      <td>[CHOCOLATE HOT WATER BOTTLE]</td>\n",
              "      <td>0.338710</td>\n",
              "      <td>8.600345</td>\n",
              "      <td>0.012127</td>\n",
              "    </tr>\n",
              "    <tr>\n",
              "      <th>2</th>\n",
              "      <td>[HOT WATER BOTTLE KEEP CALM]</td>\n",
              "      <td>[HOT WATER BOTTLE TEA AND SYMPATHY]</td>\n",
              "      <td>0.335484</td>\n",
              "      <td>11.689284</td>\n",
              "      <td>0.012011</td>\n",
              "    </tr>\n",
              "    <tr>\n",
              "      <th>3</th>\n",
              "      <td>[LUNCH BAG SUKI DESIGN, LUNCH BAG  BLACK SKULL.]</td>\n",
              "      <td>[LUNCH BAG RED RETROSPOT]</td>\n",
              "      <td>0.639098</td>\n",
              "      <td>9.027125</td>\n",
              "      <td>0.014725</td>\n",
              "    </tr>\n",
              "    <tr>\n",
              "      <th>4</th>\n",
              "      <td>[LUNCH BAG SUKI DESIGN, LUNCH BAG  BLACK SKULL.]</td>\n",
              "      <td>[LUNCH BAG CARS BLUE]</td>\n",
              "      <td>0.543860</td>\n",
              "      <td>10.605876</td>\n",
              "      <td>0.012531</td>\n",
              "    </tr>\n",
              "  </tbody>\n",
              "</table>\n",
              "</div>\n",
              "      <button class=\"colab-df-convert\" onclick=\"convertToInteractive('df-adc52281-a6f7-47f7-8a67-cd796e27c7d8')\"\n",
              "              title=\"Convert this dataframe to an interactive table.\"\n",
              "              style=\"display:none;\">\n",
              "        \n",
              "  <svg xmlns=\"http://www.w3.org/2000/svg\" height=\"24px\"viewBox=\"0 0 24 24\"\n",
              "       width=\"24px\">\n",
              "    <path d=\"M0 0h24v24H0V0z\" fill=\"none\"/>\n",
              "    <path d=\"M18.56 5.44l.94 2.06.94-2.06 2.06-.94-2.06-.94-.94-2.06-.94 2.06-2.06.94zm-11 1L8.5 8.5l.94-2.06 2.06-.94-2.06-.94L8.5 2.5l-.94 2.06-2.06.94zm10 10l.94 2.06.94-2.06 2.06-.94-2.06-.94-.94-2.06-.94 2.06-2.06.94z\"/><path d=\"M17.41 7.96l-1.37-1.37c-.4-.4-.92-.59-1.43-.59-.52 0-1.04.2-1.43.59L10.3 9.45l-7.72 7.72c-.78.78-.78 2.05 0 2.83L4 21.41c.39.39.9.59 1.41.59.51 0 1.02-.2 1.41-.59l7.78-7.78 2.81-2.81c.8-.78.8-2.07 0-2.86zM5.41 20L4 18.59l7.72-7.72 1.47 1.35L5.41 20z\"/>\n",
              "  </svg>\n",
              "      </button>\n",
              "      \n",
              "  <style>\n",
              "    .colab-df-container {\n",
              "      display:flex;\n",
              "      flex-wrap:wrap;\n",
              "      gap: 12px;\n",
              "    }\n",
              "\n",
              "    .colab-df-convert {\n",
              "      background-color: #E8F0FE;\n",
              "      border: none;\n",
              "      border-radius: 50%;\n",
              "      cursor: pointer;\n",
              "      display: none;\n",
              "      fill: #1967D2;\n",
              "      height: 32px;\n",
              "      padding: 0 0 0 0;\n",
              "      width: 32px;\n",
              "    }\n",
              "\n",
              "    .colab-df-convert:hover {\n",
              "      background-color: #E2EBFA;\n",
              "      box-shadow: 0px 1px 2px rgba(60, 64, 67, 0.3), 0px 1px 3px 1px rgba(60, 64, 67, 0.15);\n",
              "      fill: #174EA6;\n",
              "    }\n",
              "\n",
              "    [theme=dark] .colab-df-convert {\n",
              "      background-color: #3B4455;\n",
              "      fill: #D2E3FC;\n",
              "    }\n",
              "\n",
              "    [theme=dark] .colab-df-convert:hover {\n",
              "      background-color: #434B5C;\n",
              "      box-shadow: 0px 1px 3px 1px rgba(0, 0, 0, 0.15);\n",
              "      filter: drop-shadow(0px 1px 2px rgba(0, 0, 0, 0.3));\n",
              "      fill: #FFFFFF;\n",
              "    }\n",
              "  </style>\n",
              "\n",
              "      <script>\n",
              "        const buttonEl =\n",
              "          document.querySelector('#df-adc52281-a6f7-47f7-8a67-cd796e27c7d8 button.colab-df-convert');\n",
              "        buttonEl.style.display =\n",
              "          google.colab.kernel.accessAllowed ? 'block' : 'none';\n",
              "\n",
              "        async function convertToInteractive(key) {\n",
              "          const element = document.querySelector('#df-adc52281-a6f7-47f7-8a67-cd796e27c7d8');\n",
              "          const dataTable =\n",
              "            await google.colab.kernel.invokeFunction('convertToInteractive',\n",
              "                                                     [key], {});\n",
              "          if (!dataTable) return;\n",
              "\n",
              "          const docLinkHtml = 'Like what you see? Visit the ' +\n",
              "            '<a target=\"_blank\" href=https://colab.research.google.com/notebooks/data_table.ipynb>data table notebook</a>'\n",
              "            + ' to learn more about interactive tables.';\n",
              "          element.innerHTML = '';\n",
              "          dataTable['output_type'] = 'display_data';\n",
              "          await google.colab.output.renderOutput(dataTable, element);\n",
              "          const docLink = document.createElement('div');\n",
              "          docLink.innerHTML = docLinkHtml;\n",
              "          element.appendChild(docLink);\n",
              "        }\n",
              "      </script>\n",
              "    </div>\n",
              "  </div>\n",
              "  "
            ]
          },
          "metadata": {},
          "execution_count": 57
        }
      ]
    },
    {
      "cell_type": "code",
      "source": [
        "from google.colab import files\n",
        "result_pdf.to_excel('rules.xlsx')\n",
        "files.download('rules.xlsx')"
      ],
      "metadata": {
        "colab": {
          "base_uri": "https://localhost:8080/",
          "height": 17
        },
        "id": "CajlIeQj46zT",
        "outputId": "75bf367c-6949-443d-e2cb-04d90fdc58ca"
      },
      "execution_count": 58,
      "outputs": [
        {
          "output_type": "display_data",
          "data": {
            "text/plain": [
              "<IPython.core.display.Javascript object>"
            ],
            "application/javascript": [
              "\n",
              "    async function download(id, filename, size) {\n",
              "      if (!google.colab.kernel.accessAllowed) {\n",
              "        return;\n",
              "      }\n",
              "      const div = document.createElement('div');\n",
              "      const label = document.createElement('label');\n",
              "      label.textContent = `Downloading \"${filename}\": `;\n",
              "      div.appendChild(label);\n",
              "      const progress = document.createElement('progress');\n",
              "      progress.max = size;\n",
              "      div.appendChild(progress);\n",
              "      document.body.appendChild(div);\n",
              "\n",
              "      const buffers = [];\n",
              "      let downloaded = 0;\n",
              "\n",
              "      const channel = await google.colab.kernel.comms.open(id);\n",
              "      // Send a message to notify the kernel that we're ready.\n",
              "      channel.send({})\n",
              "\n",
              "      for await (const message of channel.messages) {\n",
              "        // Send a message to notify the kernel that we're ready.\n",
              "        channel.send({})\n",
              "        if (message.buffers) {\n",
              "          for (const buffer of message.buffers) {\n",
              "            buffers.push(buffer);\n",
              "            downloaded += buffer.byteLength;\n",
              "            progress.value = downloaded;\n",
              "          }\n",
              "        }\n",
              "      }\n",
              "      const blob = new Blob(buffers, {type: 'application/binary'});\n",
              "      const a = document.createElement('a');\n",
              "      a.href = window.URL.createObjectURL(blob);\n",
              "      a.download = filename;\n",
              "      div.appendChild(a);\n",
              "      a.click();\n",
              "      div.remove();\n",
              "    }\n",
              "  "
            ]
          },
          "metadata": {}
        },
        {
          "output_type": "display_data",
          "data": {
            "text/plain": [
              "<IPython.core.display.Javascript object>"
            ],
            "application/javascript": [
              "download(\"download_b7fbdbb5-5674-4fcf-b8af-c6893a836090\", \"rules.xlsx\", 44040)"
            ]
          },
          "metadata": {}
        }
      ]
    },
    {
      "cell_type": "markdown",
      "source": [
        "# 6. Deployment"
      ],
      "metadata": {
        "id": "Ac4rxkUu3iaZ"
      }
    },
    {
      "cell_type": "code",
      "source": [
        "# Prepare the input test\n",
        "test = spark.createDataFrame(\n",
        "    [\n",
        "     (\"123\", [\"HAND WARMER RED POLKA DOT\"]),\n",
        "     (\"456\", [\"RED COAT RACK PARIS FASHION\"]),\n",
        "     (\"666\", [\"VINTAGE HEADS AND TAILS CARD GAME\", \"MINI JIGSAW SPACEBOY\"])\n",
        "    ],\n",
        "    [\"BillNo\", \"items\"]\n",
        ")\n",
        "\n",
        "test.show()"
      ],
      "metadata": {
        "colab": {
          "base_uri": "https://localhost:8080/"
        },
        "id": "Dgnbwyhz3fWb",
        "outputId": "6fa50ce0-209b-4ffb-f930-cf1b28a0ba0c"
      },
      "execution_count": 59,
      "outputs": [
        {
          "output_type": "stream",
          "name": "stdout",
          "text": [
            "+------+--------------------+\n",
            "|BillNo|               items|\n",
            "+------+--------------------+\n",
            "|   123|[HAND WARMER RED ...|\n",
            "|   456|[RED COAT RACK PA...|\n",
            "|   666|[VINTAGE HEADS AN...|\n",
            "+------+--------------------+\n",
            "\n"
          ]
        }
      ]
    },
    {
      "cell_type": "code",
      "source": [
        "# Predict the input based on the model\n",
        "result = models[1][0].transform(test)\n",
        "result.show()"
      ],
      "metadata": {
        "colab": {
          "base_uri": "https://localhost:8080/"
        },
        "id": "yfF_16To3mTS",
        "outputId": "7f94c34d-29bf-4765-b47c-8058923e64bd"
      },
      "execution_count": 60,
      "outputs": [
        {
          "output_type": "stream",
          "name": "stdout",
          "text": [
            "+------+--------------------+--------------------+\n",
            "|BillNo|               items|          prediction|\n",
            "+------+--------------------+--------------------+\n",
            "|   123|[HAND WARMER RED ...|                  []|\n",
            "|   456|[RED COAT RACK PA...|                  []|\n",
            "|   666|[VINTAGE HEADS AN...|[VINTAGE SNAP CARDS]|\n",
            "+------+--------------------+--------------------+\n",
            "\n"
          ]
        }
      ]
    },
    {
      "cell_type": "code",
      "source": [
        "# Convert array of values into rows\n",
        "result = result.select(result.BillNo, result.items, explode(result.prediction).alias(\"prediction\"))\n",
        "result.show()"
      ],
      "metadata": {
        "colab": {
          "base_uri": "https://localhost:8080/"
        },
        "id": "yZWMVx2S3oIX",
        "outputId": "7aeb59ab-2348-4db9-c2ca-350ef4de9292"
      },
      "execution_count": 61,
      "outputs": [
        {
          "output_type": "stream",
          "name": "stdout",
          "text": [
            "+------+--------------------+------------------+\n",
            "|BillNo|               items|        prediction|\n",
            "+------+--------------------+------------------+\n",
            "|   666|[VINTAGE HEADS AN...|VINTAGE SNAP CARDS|\n",
            "+------+--------------------+------------------+\n",
            "\n"
          ]
        }
      ]
    },
    {
      "cell_type": "code",
      "source": [],
      "metadata": {
        "id": "5W2Hoq1_5okS"
      },
      "execution_count": null,
      "outputs": []
    }
  ]
}