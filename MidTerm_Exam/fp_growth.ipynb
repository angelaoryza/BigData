{
  "nbformat": 4,
  "nbformat_minor": 0,
  "metadata": {
    "colab": {
      "provenance": [],
      "authorship_tag": "ABX9TyNqAzqkdUNzxlsCIwO+BH0/",
      "include_colab_link": true
    },
    "kernelspec": {
      "name": "python3",
      "display_name": "Python 3"
    },
    "language_info": {
      "name": "python"
    }
  },
  "cells": [
    {
      "cell_type": "markdown",
      "metadata": {
        "id": "view-in-github",
        "colab_type": "text"
      },
      "source": [
        "<a href=\"https://colab.research.google.com/github/angelaoryza/BigData/blob/main/MidTerm_Exam/fp_growth.ipynb\" target=\"_parent\"><img src=\"https://colab.research.google.com/assets/colab-badge.svg\" alt=\"Open In Colab\"/></a>"
      ]
    },
    {
      "cell_type": "markdown",
      "source": [
        "# CRISP-DM Methodology:\n",
        "1. Business Understanding\n",
        "2. Data Understanding\n",
        "3. Data Preparation\n",
        "4. Modeling\n",
        "5. Evaluation\n",
        "6. Deployment"
      ],
      "metadata": {
        "id": "tmpyrEjH2MBb"
      }
    },
    {
      "cell_type": "markdown",
      "source": [
        "## 1. Business Understanding\n",
        "\n",
        "- Find the frequent itemset based on the transaction data.\n",
        "- Build the recommendation systems."
      ],
      "metadata": {
        "id": "373RJzNb2Vwt"
      }
    },
    {
      "cell_type": "code",
      "execution_count": null,
      "metadata": {
        "colab": {
          "base_uri": "https://localhost:8080/"
        },
        "id": "FqJOg09h0asc",
        "outputId": "6f0cbbca-9e1b-48ec-8c03-9157ecfae434"
      },
      "outputs": [
        {
          "output_type": "stream",
          "name": "stdout",
          "text": [
            "--2023-04-14 02:15:54--  https://docs.google.com/uc?export=download&id=19OMIjRgshCsIZvUbpvrdbAKl6O2sRtV6\n",
            "Resolving docs.google.com (docs.google.com)... 172.217.219.113, 172.217.219.138, 172.217.219.102, ...\n",
            "Connecting to docs.google.com (docs.google.com)|172.217.219.113|:443... connected.\n",
            "HTTP request sent, awaiting response... 303 See Other\n",
            "Location: https://doc-00-88-docs.googleusercontent.com/docs/securesc/ha0ro937gcuc7l7deffksulhg5h7mbp1/7acqn9v4unui4jqqvp74dujledthm0fn/1681438500000/07765186029080978570/*/19OMIjRgshCsIZvUbpvrdbAKl6O2sRtV6?e=download&uuid=f692167e-057c-4822-9db7-3213ce81402f [following]\n",
            "Warning: wildcards not supported in HTTP.\n",
            "--2023-04-14 02:15:56--  https://doc-00-88-docs.googleusercontent.com/docs/securesc/ha0ro937gcuc7l7deffksulhg5h7mbp1/7acqn9v4unui4jqqvp74dujledthm0fn/1681438500000/07765186029080978570/*/19OMIjRgshCsIZvUbpvrdbAKl6O2sRtV6?e=download&uuid=f692167e-057c-4822-9db7-3213ce81402f\n",
            "Resolving doc-00-88-docs.googleusercontent.com (doc-00-88-docs.googleusercontent.com)... 172.217.219.132, 2607:f8b0:4001:c13::84\n",
            "Connecting to doc-00-88-docs.googleusercontent.com (doc-00-88-docs.googleusercontent.com)|172.217.219.132|:443... connected.\n",
            "HTTP request sent, awaiting response... 200 OK\n",
            "Length: 41204583 (39M) [text/csv]\n",
            "Saving to: ‘market_basket.csv’\n",
            "\n",
            "market_basket.csv   100%[===================>]  39.29M   188MB/s    in 0.2s    \n",
            "\n",
            "2023-04-14 02:15:56 (188 MB/s) - ‘market_basket.csv’ saved [41204583/41204583]\n",
            "\n"
          ]
        }
      ],
      "source": [
        "# Download the data from the repository\n",
        "\n",
        "!wget --no-check-certificate 'https://docs.google.com/uc?export=download&id=19OMIjRgshCsIZvUbpvrdbAKl6O2sRtV6' -O market_basket.csv"
      ]
    },
    {
      "cell_type": "markdown",
      "source": [
        "# 2. Data Understanding"
      ],
      "metadata": {
        "id": "uAWzYpYR2mTC"
      }
    },
    {
      "cell_type": "code",
      "source": [
        "# Install Apache Spark\n",
        "!pip install pyspark==3.1.2"
      ],
      "metadata": {
        "colab": {
          "base_uri": "https://localhost:8080/"
        },
        "id": "CM3fua2E2Uia",
        "outputId": "65e28ef6-755e-4977-bf77-0004c31dc0b4"
      },
      "execution_count": null,
      "outputs": [
        {
          "output_type": "stream",
          "name": "stdout",
          "text": [
            "Looking in indexes: https://pypi.org/simple, https://us-python.pkg.dev/colab-wheels/public/simple/\n",
            "Requirement already satisfied: pyspark==3.1.2 in /usr/local/lib/python3.9/dist-packages (3.1.2)\n",
            "Requirement already satisfied: py4j==0.10.9 in /usr/local/lib/python3.9/dist-packages (from pyspark==3.1.2) (0.10.9)\n"
          ]
        }
      ]
    },
    {
      "cell_type": "code",
      "source": [
        "# Import required libraries\n",
        "\n",
        "from pyspark.sql import SparkSession\n",
        "from pyspark.sql.functions import *\n",
        "from pyspark.ml.fpm import FPGrowth\n"
      ],
      "metadata": {
        "id": "oCr5lMAg2cQI"
      },
      "execution_count": null,
      "outputs": []
    },
    {
      "cell_type": "code",
      "source": [
        "!apt-get install openjdk-11-jdk-headless -qq > /dev/null\n",
        "import os\n",
        "os.environ[\"JAVA_HOME\"] = \"/usr/lib/jvm/java-11-openjdk-amd64\""
      ],
      "metadata": {
        "id": "oXkVWnBSiLNK"
      },
      "execution_count": null,
      "outputs": []
    },
    {
      "cell_type": "code",
      "source": [
        "!apt-get install openjdk-8-jdk-headless -qq > /dev/null\n",
        "!wget -q https://archive.apache.org/dist/spark/spark-3.1.2/spark-3.1.2-bin-hadoop3.2.tgz\n",
        "!tar xf spark-3.1.2-bin-hadoop3.2.tgz\n",
        "!pip install -q findspark"
      ],
      "metadata": {
        "id": "8MVbTxhKiN0Z"
      },
      "execution_count": null,
      "outputs": []
    },
    {
      "cell_type": "code",
      "source": [
        "\n",
        "os.environ[\"JAVA_HOME\"] = \"/usr/lib/jvm/java-8-openjdk-amd64\"\n",
        "os.environ[\"SPARK_HOME\"] = \"/content/spark-3.1.2-bin-hadoop3.2\""
      ],
      "metadata": {
        "id": "2IiVBIisiP1O"
      },
      "execution_count": null,
      "outputs": []
    },
    {
      "cell_type": "code",
      "source": [
        "!pip install -q findspark\n",
        "import findspark\n",
        "findspark.init()"
      ],
      "metadata": {
        "id": "Wrm6U48Jg8qI"
      },
      "execution_count": null,
      "outputs": []
    },
    {
      "cell_type": "code",
      "source": [
        "# Create Spark Session/Context\n",
        "spark = SparkSession.builder \\\n",
        "    .master(\"local\") \\\n",
        "    .appName(\"Frequent Itemset\") \\\n",
        "    .config(\"spark.some.config.option\", \"some-value\") \\\n",
        "    .config(\"spark.memory.offHeap.enabled\",\"true\") \\\n",
        "    .config(\"spark.memory.offHeap.size\",\"10g\") \\\n",
        "    .getOrCreate()"
      ],
      "metadata": {
        "id": "UTXz-skI2fs9"
      },
      "execution_count": null,
      "outputs": []
    },
    {
      "cell_type": "code",
      "source": [
        "# Import the data from CSV\n",
        "df = spark.read.option(\"header\", True).option(\"delimiter\", \";\").csv(\"market_basket.csv\")\n",
        "df.show()"
      ],
      "metadata": {
        "colab": {
          "base_uri": "https://localhost:8080/"
        },
        "id": "ziQTO3Mj2iTO",
        "outputId": "b361b947-ec72-4896-eb6d-e2b79caed884"
      },
      "execution_count": null,
      "outputs": [
        {
          "output_type": "stream",
          "name": "stdout",
          "text": [
            "+------+--------------------+--------+----------------+-----+----------+--------------+\n",
            "|BillNo|            Itemname|Quantity|            Date|Price|CustomerID|       Country|\n",
            "+------+--------------------+--------+----------------+-----+----------+--------------+\n",
            "|536365|WHITE HANGING HEA...|       6|01.12.2010 08:26| 2,55|     17850|United Kingdom|\n",
            "|536365| WHITE METAL LANTERN|       6|01.12.2010 08:26| 3,39|     17850|United Kingdom|\n",
            "|536365|CREAM CUPID HEART...|       8|01.12.2010 08:26| 2,75|     17850|United Kingdom|\n",
            "|536365|KNITTED UNION FLA...|       6|01.12.2010 08:26| 3,39|     17850|United Kingdom|\n",
            "|536365|RED WOOLLY HOTTIE...|       6|01.12.2010 08:26| 3,39|     17850|United Kingdom|\n",
            "|536365|SET 7 BABUSHKA NE...|       2|01.12.2010 08:26| 7,65|     17850|United Kingdom|\n",
            "|536365|GLASS STAR FROSTE...|       6|01.12.2010 08:26| 4,25|     17850|United Kingdom|\n",
            "|536366|HAND WARMER UNION...|       6|01.12.2010 08:28| 1,85|     17850|United Kingdom|\n",
            "|536366|HAND WARMER RED P...|       6|01.12.2010 08:28| 1,85|     17850|United Kingdom|\n",
            "|536367|ASSORTED COLOUR B...|      32|01.12.2010 08:34| 1,69|     13047|United Kingdom|\n",
            "|536367|POPPY'S PLAYHOUSE...|       6|01.12.2010 08:34|  2,1|     13047|United Kingdom|\n",
            "|536367|POPPY'S PLAYHOUSE...|       6|01.12.2010 08:34|  2,1|     13047|United Kingdom|\n",
            "|536367|FELTCRAFT PRINCES...|       8|01.12.2010 08:34| 3,75|     13047|United Kingdom|\n",
            "|536367|IVORY KNITTED MUG...|       6|01.12.2010 08:34| 1,65|     13047|United Kingdom|\n",
            "|536367|BOX OF 6 ASSORTED...|       6|01.12.2010 08:34| 4,25|     13047|United Kingdom|\n",
            "|536367|BOX OF VINTAGE JI...|       3|01.12.2010 08:34| 4,95|     13047|United Kingdom|\n",
            "|536367|BOX OF VINTAGE AL...|       2|01.12.2010 08:34| 9,95|     13047|United Kingdom|\n",
            "|536367|HOME BUILDING BLO...|       3|01.12.2010 08:34| 5,95|     13047|United Kingdom|\n",
            "|536367|LOVE BUILDING BLO...|       3|01.12.2010 08:34| 5,95|     13047|United Kingdom|\n",
            "|536367|RECIPE BOX WITH M...|       4|01.12.2010 08:34| 7,95|     13047|United Kingdom|\n",
            "+------+--------------------+--------+----------------+-----+----------+--------------+\n",
            "only showing top 20 rows\n",
            "\n"
          ]
        }
      ]
    },
    {
      "cell_type": "markdown",
      "source": [
        "## 3. Data Preparation\n",
        "\n",
        "We need to prepare the data into combination of [\"id\", \"items\"] = [1, [a, b, c]]"
      ],
      "metadata": {
        "id": "pL4IT5gC2wU5"
      }
    },
    {
      "cell_type": "code",
      "source": [
        "# Select only the first two column\n",
        "df_raw = df.select(\"BillNo\", \"Itemname\")\n",
        "df_raw.show()"
      ],
      "metadata": {
        "colab": {
          "base_uri": "https://localhost:8080/"
        },
        "id": "HS_sfhPA2012",
        "outputId": "c8e597b6-1c90-4a3e-d3ec-3a6bf85ead09"
      },
      "execution_count": null,
      "outputs": [
        {
          "output_type": "stream",
          "name": "stdout",
          "text": [
            "+------+--------------------+\n",
            "|BillNo|            Itemname|\n",
            "+------+--------------------+\n",
            "|536365|WHITE HANGING HEA...|\n",
            "|536365| WHITE METAL LANTERN|\n",
            "|536365|CREAM CUPID HEART...|\n",
            "|536365|KNITTED UNION FLA...|\n",
            "|536365|RED WOOLLY HOTTIE...|\n",
            "|536365|SET 7 BABUSHKA NE...|\n",
            "|536365|GLASS STAR FROSTE...|\n",
            "|536366|HAND WARMER UNION...|\n",
            "|536366|HAND WARMER RED P...|\n",
            "|536367|ASSORTED COLOUR B...|\n",
            "|536367|POPPY'S PLAYHOUSE...|\n",
            "|536367|POPPY'S PLAYHOUSE...|\n",
            "|536367|FELTCRAFT PRINCES...|\n",
            "|536367|IVORY KNITTED MUG...|\n",
            "|536367|BOX OF 6 ASSORTED...|\n",
            "|536367|BOX OF VINTAGE JI...|\n",
            "|536367|BOX OF VINTAGE AL...|\n",
            "|536367|HOME BUILDING BLO...|\n",
            "|536367|LOVE BUILDING BLO...|\n",
            "|536367|RECIPE BOX WITH M...|\n",
            "+------+--------------------+\n",
            "only showing top 20 rows\n",
            "\n"
          ]
        }
      ]
    },
    {
      "cell_type": "code",
      "source": [
        "# Before dropping the duplicates\n",
        "df_raw.count()"
      ],
      "metadata": {
        "colab": {
          "base_uri": "https://localhost:8080/"
        },
        "id": "lHwvgQYl23BY",
        "outputId": "9c1bd771-f3fc-4012-9bd4-d68e736556b1"
      },
      "execution_count": null,
      "outputs": [
        {
          "output_type": "execute_result",
          "data": {
            "text/plain": [
              "522064"
            ]
          },
          "metadata": {},
          "execution_count": 11
        }
      ]
    },
    {
      "cell_type": "code",
      "source": [
        "# Remove the duplicates\n",
        "df_raw = df_raw.dropDuplicates([\"BillNo\", \"Itemname\"])\n",
        "df_raw.count()"
      ],
      "metadata": {
        "colab": {
          "base_uri": "https://localhost:8080/"
        },
        "id": "bxY0uPiN25By",
        "outputId": "9139681d-2286-447e-c5a7-388a8814c67a"
      },
      "execution_count": null,
      "outputs": [
        {
          "output_type": "execute_result",
          "data": {
            "text/plain": [
              "511280"
            ]
          },
          "metadata": {},
          "execution_count": 12
        }
      ]
    },
    {
      "cell_type": "code",
      "source": [
        "# Convert into this format: [\"id\", \"items\"] = [1, [a, b, c]]\n",
        "# You can use groupBy, agg, and collect_list methods\n",
        "from pyspark.sql.functions import collect_list\n",
        "df_input = df_raw.groupBy(\"BillNo\").agg(collect_list('Itemname').alias('items'))\n",
        "df_input.show()"
      ],
      "metadata": {
        "colab": {
          "base_uri": "https://localhost:8080/"
        },
        "id": "0g3cjvOS26ld",
        "outputId": "78b273ce-67bf-4fa7-ad83-206e2673e865"
      },
      "execution_count": null,
      "outputs": [
        {
          "output_type": "stream",
          "name": "stdout",
          "text": [
            "+------+--------------------+\n",
            "|BillNo|               items|\n",
            "+------+--------------------+\n",
            "|536596|[WAKE UP COCKEREL...|\n",
            "|538041|                  []|\n",
            "|538184|[VINTAGE SNAP CAR...|\n",
            "|538517|[SMALL POPCORN HO...|\n",
            "|541783|[PLASTERS IN TIN ...|\n",
            "|544303|[PANTRY ROLLING P...|\n",
            "|547557|                  []|\n",
            "|548998|                  []|\n",
            "|549160|                  []|\n",
            "|551692|                  []|\n",
            "|552215|                  []|\n",
            "|552677|[SET/6 RED SPOTTY...|\n",
            "|554630|[MONEY BOX POCKET...|\n",
            "|557271|[ANTIQUE GLASS DR...|\n",
            "|557757|[SET OF 6 STRAWBE...|\n",
            "|558700|[FRIDGE MAGNETS L...|\n",
            "|562463|                  []|\n",
            "|562890|[SAVOY ART DECO C...|\n",
            "|562945|                  []|\n",
            "|566431|[CHRISTMAS TOILET...|\n",
            "+------+--------------------+\n",
            "only showing top 20 rows\n",
            "\n"
          ]
        }
      ]
    },
    {
      "cell_type": "markdown",
      "source": [
        "# 4. Modeling\n",
        "\n",
        "For the modeling, we are going to use some hyperparameters value and test the RMSES for each model so that we could get the best hyperparameter"
      ],
      "metadata": {
        "id": "LrPCQe-33Oxt"
      }
    },
    {
      "cell_type": "markdown",
      "source": [
        "## 4.1 Split the data into Training and Testing Set"
      ],
      "metadata": {
        "id": "U2aTObuYmqQe"
      }
    },
    {
      "cell_type": "code",
      "source": [
        "training, test = df_input.randomSplit([0.8, 0.2])"
      ],
      "metadata": {
        "id": "iOULdMtjmxZw"
      },
      "execution_count": null,
      "outputs": []
    },
    {
      "cell_type": "markdown",
      "source": [
        "## 4.2 Train the training data with each hyperparameter tuning\n",
        "We are going to use the value `[0.01, 0.05, and 1.00]` for minConfidence and  `[0.01, 0.05, and 1.00]` for minSupport"
      ],
      "metadata": {
        "id": "ikdCnwSRm6Jg"
      }
    },
    {
      "cell_type": "code",
      "source": [
        "# Train the data\n",
        "# 1. Create the instance\n",
        "#    We can control minSupport and minConfidence variables --> called HYPERPARAMETERS\n",
        "#    We can use algorithm like Hill Climbing, Grid Search and so on for optimization\n",
        "#    Or we can also use trial-and-error\n",
        "\n",
        "#  500.000 data --> minSupport 0.5 --> 250.000 transactions --> IMPOSSIBLE\n",
        "models = []\n",
        "minSupport = [0.01, 0.05, 1.00]\n",
        "minConfidence = [0.01, 0.05, 1.00]\n",
        "\n",
        "for ms in minSupport:\n",
        "  for mc in minConfidence:\n",
        "    fpGrowth = FPGrowth(itemsCol=\"items\", minSupport=ms, minConfidence=mc)\n",
        "    model_one = fpGrowth.fit(training)\n",
        "    models.append([model_one, ms, mc])\n"
      ],
      "metadata": {
        "id": "JHW28D0w28Tu"
      },
      "execution_count": null,
      "outputs": []
    },
    {
      "cell_type": "markdown",
      "source": [
        "## 4.3 Predicting the test data and evaluate the SSE"
      ],
      "metadata": {
        "id": "7lfFuIJ8oWNM"
      }
    },
    {
      "cell_type": "code",
      "source": [
        "# Display generated association rules.\n",
        "for model in models:\n",
        "  model[0].associationRules.show()"
      ],
      "metadata": {
        "colab": {
          "base_uri": "https://localhost:8080/",
          "height": 1000
        },
        "id": "-BuFEHIyocoY",
        "outputId": "30c24b87-dc1b-4b2d-d58a-1f43744bb31e"
      },
      "execution_count": null,
      "outputs": [
        {
          "output_type": "stream",
          "name": "stdout",
          "text": [
            "+--------------------+--------------------+-------------------+------------------+--------------------+\n",
            "|          antecedent|          consequent|         confidence|              lift|             support|\n",
            "+--------------------+--------------------+-------------------+------------------+--------------------+\n",
            "|[HOT WATER BOTTLE...|[LOVE HOT WATER B...|0.29516129032258065|14.198077956989248|0.010567650285846279|\n",
            "|[HOT WATER BOTTLE...|[CHOCOLATE HOT WA...| 0.3387096774193548|  8.60034528426828|0.012126811803430155|\n",
            "|[HOT WATER BOTTLE...|[HOT WATER BOTTLE...|0.33548387096774196|11.689284091646655|  0.0120113183576832|\n",
            "|[LUNCH BAG SUKI D...|[LUNCH BAG RED RE...| 0.6390977443609023| 9.027125317371732|0.014725414332736617|\n",
            "|[LUNCH BAG SUKI D...|[LUNCH BAG CARS B...|  0.543859649122807|10.605875612454561|0.012531038863544494|\n",
            "|[LUNCH BAG SUKI D...|[LUNCH BAG SPACEB...| 0.5238095238095238|10.101124191324637|0.012069065080556678|\n",
            "|[LUNCH BAG SUKI D...|[LUNCH BAG PINK P...|0.48872180451127817| 9.933328038405872|0.011260610960328002|\n",
            "|[LUNCH BAG SUKI D...|[LUNCH BAG WOODLAND]|0.47869674185463656|10.323277059398183|0.011029624068834093|\n",
            "|[LUNCH BAG SUKI D...|[LUNCH BAG APPLE ...| 0.5012531328320802|10.959849117743854|0.011549344574695386|\n",
            "|[SMALL HEART MEAS...|    [DOTCOM POSTAGE]| 0.4715447154471545|14.846799704360679|0.010047929779984985|\n",
            "|[PAPER CHAIN KIT ...|[PAPER CHAIN KIT ...| 0.6863354037267081|13.046399765461477|0.025524051510076803|\n",
            "|[PAPER CHAIN KIT ...|[60 CAKE CASES VI...| 0.3105590062111801|11.298214938149172|0.011549344574695386|\n",
            "|[PAPER CHAIN KIT ...|[SET OF 20 VINTAG...| 0.2795031055900621|10.276338173042685|0.010394410117225847|\n",
            "|[JUMBO BAG SPACEB...|[JUMBO STORAGE BA...| 0.5795795795795796| 10.68858315184194|0.011145117514581047|\n",
            "|[JUMBO BAG SPACEB...|[JUMBO BAG PINK P...| 0.5975975975975976|10.813581606685055|0.011491597851821909|\n",
            "|[JUMBO SHOPPER VI...|[JUMBO STORAGE BA...| 0.4489571899012075| 8.279650327496496|0.023618409655252064|\n",
            "|[JUMBO SHOPPER VI...|[LUNCH BAG RED RE...| 0.2414928649835346|3.4110374738334976|0.012704279032164924|\n",
            "|[JUMBO SHOPPER VI...|[JUMBO BAG RED RE...| 0.5697036223929748|5.9755043179764655|0.029970549171334526|\n",
            "|[JUMBO SHOPPER VI...|[JUMBO BAG PINK P...|0.38529088913282106| 6.971872860097244|0.020269099728590402|\n",
            "|[JUMBO SHOPPER VI...|[WHITE HANGING HE...|0.22722283205268934| 2.229358517085791|0.011953571634809725|\n",
            "+--------------------+--------------------+-------------------+------------------+--------------------+\n",
            "only showing top 20 rows\n",
            "\n",
            "+--------------------+--------------------+-------------------+------------------+--------------------+\n",
            "|          antecedent|          consequent|         confidence|              lift|             support|\n",
            "+--------------------+--------------------+-------------------+------------------+--------------------+\n",
            "|[HOT WATER BOTTLE...|[LOVE HOT WATER B...|0.29516129032258065|14.198077956989248|0.010567650285846279|\n",
            "|[HOT WATER BOTTLE...|[CHOCOLATE HOT WA...| 0.3387096774193548|  8.60034528426828|0.012126811803430155|\n",
            "|[HOT WATER BOTTLE...|[HOT WATER BOTTLE...|0.33548387096774196|11.689284091646655|  0.0120113183576832|\n",
            "|[LUNCH BAG SUKI D...|[LUNCH BAG RED RE...| 0.6390977443609023| 9.027125317371732|0.014725414332736617|\n",
            "|[LUNCH BAG SUKI D...|[LUNCH BAG CARS B...|  0.543859649122807|10.605875612454561|0.012531038863544494|\n",
            "|[LUNCH BAG SUKI D...|[LUNCH BAG SPACEB...| 0.5238095238095238|10.101124191324637|0.012069065080556678|\n",
            "|[LUNCH BAG SUKI D...|[LUNCH BAG PINK P...|0.48872180451127817| 9.933328038405872|0.011260610960328002|\n",
            "|[LUNCH BAG SUKI D...|[LUNCH BAG WOODLAND]|0.47869674185463656|10.323277059398183|0.011029624068834093|\n",
            "|[LUNCH BAG SUKI D...|[LUNCH BAG APPLE ...| 0.5012531328320802|10.959849117743854|0.011549344574695386|\n",
            "|[SMALL HEART MEAS...|    [DOTCOM POSTAGE]| 0.4715447154471545|14.846799704360679|0.010047929779984985|\n",
            "|[PAPER CHAIN KIT ...|[PAPER CHAIN KIT ...| 0.6863354037267081|13.046399765461477|0.025524051510076803|\n",
            "|[PAPER CHAIN KIT ...|[60 CAKE CASES VI...| 0.3105590062111801|11.298214938149172|0.011549344574695386|\n",
            "|[PAPER CHAIN KIT ...|[SET OF 20 VINTAG...| 0.2795031055900621|10.276338173042685|0.010394410117225847|\n",
            "|[JUMBO BAG SPACEB...|[JUMBO STORAGE BA...| 0.5795795795795796| 10.68858315184194|0.011145117514581047|\n",
            "|[JUMBO BAG SPACEB...|[JUMBO BAG PINK P...| 0.5975975975975976|10.813581606685055|0.011491597851821909|\n",
            "|[JUMBO SHOPPER VI...|[JUMBO STORAGE BA...| 0.4489571899012075| 8.279650327496496|0.023618409655252064|\n",
            "|[JUMBO SHOPPER VI...|[LUNCH BAG RED RE...| 0.2414928649835346|3.4110374738334976|0.012704279032164924|\n",
            "|[JUMBO SHOPPER VI...|[JUMBO BAG RED RE...| 0.5697036223929748|5.9755043179764655|0.029970549171334526|\n",
            "|[JUMBO SHOPPER VI...|[JUMBO BAG PINK P...|0.38529088913282106| 6.971872860097244|0.020269099728590402|\n",
            "|[JUMBO SHOPPER VI...|[WHITE HANGING HE...|0.22722283205268934| 2.229358517085791|0.011953571634809725|\n",
            "+--------------------+--------------------+-------------------+------------------+--------------------+\n",
            "only showing top 20 rows\n",
            "\n"
          ]
        },
        {
          "output_type": "error",
          "ename": "KeyboardInterrupt",
          "evalue": "ignored",
          "traceback": [
            "\u001b[0;31m---------------------------------------------------------------------------\u001b[0m",
            "\u001b[0;31mKeyboardInterrupt\u001b[0m                         Traceback (most recent call last)",
            "\u001b[0;32m<ipython-input-34-c193b78c82ee>\u001b[0m in \u001b[0;36m<cell line: 2>\u001b[0;34m()\u001b[0m\n\u001b[1;32m      1\u001b[0m \u001b[0;31m# Display generated association rules.\u001b[0m\u001b[0;34m\u001b[0m\u001b[0;34m\u001b[0m\u001b[0m\n\u001b[1;32m      2\u001b[0m \u001b[0;32mfor\u001b[0m \u001b[0mmodel\u001b[0m \u001b[0;32min\u001b[0m \u001b[0mmodels\u001b[0m\u001b[0;34m:\u001b[0m\u001b[0;34m\u001b[0m\u001b[0;34m\u001b[0m\u001b[0m\n\u001b[0;32m----> 3\u001b[0;31m   \u001b[0mmodel\u001b[0m\u001b[0;34m[\u001b[0m\u001b[0;36m0\u001b[0m\u001b[0;34m]\u001b[0m\u001b[0;34m.\u001b[0m\u001b[0massociationRules\u001b[0m\u001b[0;34m.\u001b[0m\u001b[0mshow\u001b[0m\u001b[0;34m(\u001b[0m\u001b[0;34m)\u001b[0m\u001b[0;34m\u001b[0m\u001b[0;34m\u001b[0m\u001b[0m\n\u001b[0m",
            "\u001b[0;32m/usr/local/lib/python3.9/dist-packages/pyspark/sql/dataframe.py\u001b[0m in \u001b[0;36mshow\u001b[0;34m(self, n, truncate, vertical)\u001b[0m\n\u001b[1;32m    482\u001b[0m         \"\"\"\n\u001b[1;32m    483\u001b[0m         \u001b[0;32mif\u001b[0m \u001b[0misinstance\u001b[0m\u001b[0;34m(\u001b[0m\u001b[0mtruncate\u001b[0m\u001b[0;34m,\u001b[0m \u001b[0mbool\u001b[0m\u001b[0;34m)\u001b[0m \u001b[0;32mand\u001b[0m \u001b[0mtruncate\u001b[0m\u001b[0;34m:\u001b[0m\u001b[0;34m\u001b[0m\u001b[0;34m\u001b[0m\u001b[0m\n\u001b[0;32m--> 484\u001b[0;31m             \u001b[0mprint\u001b[0m\u001b[0;34m(\u001b[0m\u001b[0mself\u001b[0m\u001b[0;34m.\u001b[0m\u001b[0m_jdf\u001b[0m\u001b[0;34m.\u001b[0m\u001b[0mshowString\u001b[0m\u001b[0;34m(\u001b[0m\u001b[0mn\u001b[0m\u001b[0;34m,\u001b[0m \u001b[0;36m20\u001b[0m\u001b[0;34m,\u001b[0m \u001b[0mvertical\u001b[0m\u001b[0;34m)\u001b[0m\u001b[0;34m)\u001b[0m\u001b[0;34m\u001b[0m\u001b[0;34m\u001b[0m\u001b[0m\n\u001b[0m\u001b[1;32m    485\u001b[0m         \u001b[0;32melse\u001b[0m\u001b[0;34m:\u001b[0m\u001b[0;34m\u001b[0m\u001b[0;34m\u001b[0m\u001b[0m\n\u001b[1;32m    486\u001b[0m             \u001b[0mprint\u001b[0m\u001b[0;34m(\u001b[0m\u001b[0mself\u001b[0m\u001b[0;34m.\u001b[0m\u001b[0m_jdf\u001b[0m\u001b[0;34m.\u001b[0m\u001b[0mshowString\u001b[0m\u001b[0;34m(\u001b[0m\u001b[0mn\u001b[0m\u001b[0;34m,\u001b[0m \u001b[0mint\u001b[0m\u001b[0;34m(\u001b[0m\u001b[0mtruncate\u001b[0m\u001b[0;34m)\u001b[0m\u001b[0;34m,\u001b[0m \u001b[0mvertical\u001b[0m\u001b[0;34m)\u001b[0m\u001b[0;34m)\u001b[0m\u001b[0;34m\u001b[0m\u001b[0;34m\u001b[0m\u001b[0m\n",
            "\u001b[0;32m/usr/local/lib/python3.9/dist-packages/py4j/java_gateway.py\u001b[0m in \u001b[0;36m__call__\u001b[0;34m(self, *args)\u001b[0m\n\u001b[1;32m   1301\u001b[0m             \u001b[0mproto\u001b[0m\u001b[0;34m.\u001b[0m\u001b[0mEND_COMMAND_PART\u001b[0m\u001b[0;34m\u001b[0m\u001b[0;34m\u001b[0m\u001b[0m\n\u001b[1;32m   1302\u001b[0m \u001b[0;34m\u001b[0m\u001b[0m\n\u001b[0;32m-> 1303\u001b[0;31m         \u001b[0manswer\u001b[0m \u001b[0;34m=\u001b[0m \u001b[0mself\u001b[0m\u001b[0;34m.\u001b[0m\u001b[0mgateway_client\u001b[0m\u001b[0;34m.\u001b[0m\u001b[0msend_command\u001b[0m\u001b[0;34m(\u001b[0m\u001b[0mcommand\u001b[0m\u001b[0;34m)\u001b[0m\u001b[0;34m\u001b[0m\u001b[0;34m\u001b[0m\u001b[0m\n\u001b[0m\u001b[1;32m   1304\u001b[0m         return_value = get_return_value(\n\u001b[1;32m   1305\u001b[0m             answer, self.gateway_client, self.target_id, self.name)\n",
            "\u001b[0;32m/usr/local/lib/python3.9/dist-packages/py4j/java_gateway.py\u001b[0m in \u001b[0;36msend_command\u001b[0;34m(self, command, retry, binary)\u001b[0m\n\u001b[1;32m   1031\u001b[0m         \u001b[0mconnection\u001b[0m \u001b[0;34m=\u001b[0m \u001b[0mself\u001b[0m\u001b[0;34m.\u001b[0m\u001b[0m_get_connection\u001b[0m\u001b[0;34m(\u001b[0m\u001b[0;34m)\u001b[0m\u001b[0;34m\u001b[0m\u001b[0;34m\u001b[0m\u001b[0m\n\u001b[1;32m   1032\u001b[0m         \u001b[0;32mtry\u001b[0m\u001b[0;34m:\u001b[0m\u001b[0;34m\u001b[0m\u001b[0;34m\u001b[0m\u001b[0m\n\u001b[0;32m-> 1033\u001b[0;31m             \u001b[0mresponse\u001b[0m \u001b[0;34m=\u001b[0m \u001b[0mconnection\u001b[0m\u001b[0;34m.\u001b[0m\u001b[0msend_command\u001b[0m\u001b[0;34m(\u001b[0m\u001b[0mcommand\u001b[0m\u001b[0;34m)\u001b[0m\u001b[0;34m\u001b[0m\u001b[0;34m\u001b[0m\u001b[0m\n\u001b[0m\u001b[1;32m   1034\u001b[0m             \u001b[0;32mif\u001b[0m \u001b[0mbinary\u001b[0m\u001b[0;34m:\u001b[0m\u001b[0;34m\u001b[0m\u001b[0;34m\u001b[0m\u001b[0m\n\u001b[1;32m   1035\u001b[0m                 \u001b[0;32mreturn\u001b[0m \u001b[0mresponse\u001b[0m\u001b[0;34m,\u001b[0m \u001b[0mself\u001b[0m\u001b[0;34m.\u001b[0m\u001b[0m_create_connection_guard\u001b[0m\u001b[0;34m(\u001b[0m\u001b[0mconnection\u001b[0m\u001b[0;34m)\u001b[0m\u001b[0;34m\u001b[0m\u001b[0;34m\u001b[0m\u001b[0m\n",
            "\u001b[0;32m/usr/local/lib/python3.9/dist-packages/py4j/java_gateway.py\u001b[0m in \u001b[0;36msend_command\u001b[0;34m(self, command)\u001b[0m\n\u001b[1;32m   1198\u001b[0m \u001b[0;34m\u001b[0m\u001b[0m\n\u001b[1;32m   1199\u001b[0m         \u001b[0;32mtry\u001b[0m\u001b[0;34m:\u001b[0m\u001b[0;34m\u001b[0m\u001b[0;34m\u001b[0m\u001b[0m\n\u001b[0;32m-> 1200\u001b[0;31m             \u001b[0manswer\u001b[0m \u001b[0;34m=\u001b[0m \u001b[0msmart_decode\u001b[0m\u001b[0;34m(\u001b[0m\u001b[0mself\u001b[0m\u001b[0;34m.\u001b[0m\u001b[0mstream\u001b[0m\u001b[0;34m.\u001b[0m\u001b[0mreadline\u001b[0m\u001b[0;34m(\u001b[0m\u001b[0;34m)\u001b[0m\u001b[0;34m[\u001b[0m\u001b[0;34m:\u001b[0m\u001b[0;34m-\u001b[0m\u001b[0;36m1\u001b[0m\u001b[0;34m]\u001b[0m\u001b[0;34m)\u001b[0m\u001b[0;34m\u001b[0m\u001b[0;34m\u001b[0m\u001b[0m\n\u001b[0m\u001b[1;32m   1201\u001b[0m             \u001b[0mlogger\u001b[0m\u001b[0;34m.\u001b[0m\u001b[0mdebug\u001b[0m\u001b[0;34m(\u001b[0m\u001b[0;34m\"Answer received: {0}\"\u001b[0m\u001b[0;34m.\u001b[0m\u001b[0mformat\u001b[0m\u001b[0;34m(\u001b[0m\u001b[0manswer\u001b[0m\u001b[0;34m)\u001b[0m\u001b[0;34m)\u001b[0m\u001b[0;34m\u001b[0m\u001b[0;34m\u001b[0m\u001b[0m\n\u001b[1;32m   1202\u001b[0m             \u001b[0;32mif\u001b[0m \u001b[0manswer\u001b[0m\u001b[0;34m.\u001b[0m\u001b[0mstartswith\u001b[0m\u001b[0;34m(\u001b[0m\u001b[0mproto\u001b[0m\u001b[0;34m.\u001b[0m\u001b[0mRETURN_MESSAGE\u001b[0m\u001b[0;34m)\u001b[0m\u001b[0;34m:\u001b[0m\u001b[0;34m\u001b[0m\u001b[0;34m\u001b[0m\u001b[0m\n",
            "\u001b[0;32m/usr/lib/python3.9/socket.py\u001b[0m in \u001b[0;36mreadinto\u001b[0;34m(self, b)\u001b[0m\n\u001b[1;32m    702\u001b[0m         \u001b[0;32mwhile\u001b[0m \u001b[0;32mTrue\u001b[0m\u001b[0;34m:\u001b[0m\u001b[0;34m\u001b[0m\u001b[0;34m\u001b[0m\u001b[0m\n\u001b[1;32m    703\u001b[0m             \u001b[0;32mtry\u001b[0m\u001b[0;34m:\u001b[0m\u001b[0;34m\u001b[0m\u001b[0;34m\u001b[0m\u001b[0m\n\u001b[0;32m--> 704\u001b[0;31m                 \u001b[0;32mreturn\u001b[0m \u001b[0mself\u001b[0m\u001b[0;34m.\u001b[0m\u001b[0m_sock\u001b[0m\u001b[0;34m.\u001b[0m\u001b[0mrecv_into\u001b[0m\u001b[0;34m(\u001b[0m\u001b[0mb\u001b[0m\u001b[0;34m)\u001b[0m\u001b[0;34m\u001b[0m\u001b[0;34m\u001b[0m\u001b[0m\n\u001b[0m\u001b[1;32m    705\u001b[0m             \u001b[0;32mexcept\u001b[0m \u001b[0mtimeout\u001b[0m\u001b[0;34m:\u001b[0m\u001b[0;34m\u001b[0m\u001b[0;34m\u001b[0m\u001b[0m\n\u001b[1;32m    706\u001b[0m                 \u001b[0mself\u001b[0m\u001b[0;34m.\u001b[0m\u001b[0m_timeout_occurred\u001b[0m \u001b[0;34m=\u001b[0m \u001b[0;32mTrue\u001b[0m\u001b[0;34m\u001b[0m\u001b[0;34m\u001b[0m\u001b[0m\n",
            "\u001b[0;31mKeyboardInterrupt\u001b[0m: "
          ]
        }
      ]
    },
    {
      "cell_type": "code",
      "source": [
        "model"
      ],
      "metadata": {
        "colab": {
          "base_uri": "https://localhost:8080/"
        },
        "id": "jejyjq_DmZqB",
        "outputId": "f4c1d529-3734-4ca6-d817-e633b7d46f5e"
      },
      "execution_count": null,
      "outputs": [
        {
          "output_type": "execute_result",
          "data": {
            "text/plain": [
              "FPGrowthModel: uid=FPGrowth_e8ab7d5a1b2c, numTrainingRecords=21663"
            ]
          },
          "metadata": {},
          "execution_count": 29
        }
      ]
    },
    {
      "cell_type": "markdown",
      "source": [
        "## 5. Evaluation\n",
        "\n",
        "We take a look into several metrics like min_support, confidence, lift, antencedence and consequent"
      ],
      "metadata": {
        "id": "_pgFoZxm3UNg"
      }
    },
    {
      "cell_type": "code",
      "source": [
        "# 2. Train/fit the data training to become a model\n",
        "model = fpGrowth.fit(df_input)"
      ],
      "metadata": {
        "id": "raW3k_O5noQ1"
      },
      "execution_count": null,
      "outputs": []
    },
    {
      "cell_type": "code",
      "source": [
        "# Frequent Itemset\n",
        "freqItem = model.freqItemsets.show()"
      ],
      "metadata": {
        "colab": {
          "base_uri": "https://localhost:8080/"
        },
        "id": "MmrrK1PB3R0c",
        "outputId": "7327814c-a6d1-495b-a35c-bc6ec507f393"
      },
      "execution_count": null,
      "outputs": [
        {
          "output_type": "stream",
          "name": "stdout",
          "text": [
            "+--------------------+----+\n",
            "|               items|freq|\n",
            "+--------------------+----+\n",
            "|[JUMBO BAG VINTAG...| 470|\n",
            "|[JUMBO BAG VINTAG...| 319|\n",
            "|[JAM JAR WITH PIN...| 333|\n",
            "|[STRAWBERRY   PIC...| 245|\n",
            "|[WHITE HANGING HE...|2202|\n",
            "|[JUMBO BAG RED RE...|2064|\n",
            "|[JUMBO BAG RED RE...| 442|\n",
            "|[NATURAL SLATE CH...| 468|\n",
            "|[WATERING CAN BLU...| 333|\n",
            "|[PARISIENNE JEWEL...| 245|\n",
            "|[REGENCY CAKESTAN...|1904|\n",
            "|[REGENCY CAKESTAN...| 278|\n",
            "|[REGENCY CAKESTAN...| 343|\n",
            "|[SMALL HEART MEAS...| 467|\n",
            "|[SMALL HEART MEAS...| 228|\n",
            "|[PLAYING CARDS KE...| 333|\n",
            "|[BOYS VINTAGE TIN...| 244|\n",
            "|[ROLL WRAP VINTAG...| 333|\n",
            "|[SMALL CHOCOLATES...| 244|\n",
            "|     [PARTY BUNTING]|1656|\n",
            "+--------------------+----+\n",
            "only showing top 20 rows\n",
            "\n"
          ]
        }
      ]
    },
    {
      "cell_type": "code",
      "source": [
        "# Convert the Spark DataFrame back to Pandas DataFrame using Arrow\n",
        "result_pdf = freqItem.select(\"*\").toPandas()\n",
        "result_pdf.head()"
      ],
      "metadata": {
        "id": "OPQbSznUrgrc"
      },
      "execution_count": null,
      "outputs": []
    },
    {
      "cell_type": "code",
      "source": [
        "# Display generated association rules.\n",
        "model.associationRules.show()"
      ],
      "metadata": {
        "colab": {
          "base_uri": "https://localhost:8080/"
        },
        "id": "JyOX8Ab13dS7",
        "outputId": "8d2872bb-83e9-4574-d646-e9fc0a281f7d"
      },
      "execution_count": null,
      "outputs": [
        {
          "output_type": "stream",
          "name": "stdout",
          "text": [
            "+--------------------+--------------------+-------------------+------------------+--------------------+\n",
            "|          antecedent|          consequent|         confidence|              lift|             support|\n",
            "+--------------------+--------------------+-------------------+------------------+--------------------+\n",
            "|[HOT WATER BOTTLE...|[LOVE HOT WATER B...| 0.3009079118028534|14.018426007280029|  0.0107095046854083|\n",
            "|[HOT WATER BOTTLE...|[CHOCOLATE HOT WA...| 0.3450064850843061| 8.940042447824549|0.012279001061718137|\n",
            "|[HOT WATER BOTTLE...|[HOT WATER BOTTLE...| 0.3411154345006485|11.673907831891862|0.012140516087337858|\n",
            "|[LUNCH BAG SUKI D...|[LUNCH BAG RED RE...|        0.626953125| 8.813553242618429|0.014817892258689931|\n",
            "|[LUNCH BAG SUKI D...|[LUNCH BAG SPACEB...|         0.53515625|10.107314597863994|0.012648294326732217|\n",
            "|[LUNCH BAG SUKI D...|[LUNCH BAG CARS B...|         0.55078125|10.540259910556538|0.013017587591746295|\n",
            "|[LUNCH BAG SUKI D...|[LUNCH BAG PINK P...|         0.51171875|10.331186655405405|0.012094354429211097|\n",
            "|[LUNCH BAG SUKI D...|[LUNCH BAG APPLE ...|        0.517578125| 10.97093436582681|0.012232839403591376|\n",
            "|[LUNCH BAG SUKI D...|[LUNCH BAG WOODLAND]|         0.47265625| 10.19835890811753|  0.0111711212666759|\n",
            "|[SMALL HEART MEAS...|    [DOTCOM POSTAGE]|0.48822269807280516|14.938373316880195| 0.01052485805290126|\n",
            "|[PAPER CHAIN KIT ...|[PAPER CHAIN KIT ...| 0.6720098643649816|12.736438925405595| 0.02515810367908415|\n",
            "|[PAPER CHAIN KIT ...|[60 CAKE CASES VI...| 0.3008631319358816|10.862663378545005| 0.01126344458292942|\n",
            "|[PAPER CHAIN KIT ...|[SET OF 20 VINTAG...|  0.281134401972873|10.322397542268385| 0.01052485805290126|\n",
            "|[JUMBO BAG SPACEB...|[JUMBO BAG PINK P...| 0.6126760563380281|10.959869040834603|0.012048192771084338|\n",
            "|[JUMBO BAG SPACEB...|[JUMBO STORAGE BA...| 0.5985915492957746|11.007885171811855|0.011771222822323778|\n",
            "|[JUMBO SHOPPER VI...|[LUNCH BAG RED RE...|  0.241852487135506| 3.399902938881549|0.013017587591746295|\n",
            "|[JUMBO SHOPPER VI...|[JUMBO BAG RED RE...| 0.5797598627787307| 6.084950536519207|  0.0312052808936897|\n",
            "|[JUMBO SHOPPER VI...|[JUMBO BAG PINK P...|0.40051457975986277| 7.164613824391335|0.021557494345196878|\n",
            "|[JUMBO SHOPPER VI...|[JUMBO STORAGE BA...|0.44596912521440824|  8.20121320842082|0.024004062225915154|\n",
            "|[JUMBO SHOPPER VI...|[WHITE HANGING HE...|0.23241852487135506|2.2865043162071594|0.012509809352351936|\n",
            "+--------------------+--------------------+-------------------+------------------+--------------------+\n",
            "only showing top 20 rows\n",
            "\n"
          ]
        }
      ]
    },
    {
      "cell_type": "markdown",
      "source": [
        "# 6. Deployment"
      ],
      "metadata": {
        "id": "Ac4rxkUu3iaZ"
      }
    },
    {
      "cell_type": "code",
      "source": [
        "# Prepare the input test\n",
        "test = spark.createDataFrame(\n",
        "    [\n",
        "     (\"123\", [\"HAND WARMER RED POLKA DOT\"]),\n",
        "     (\"456\", [\"RED COAT RACK PARIS FASHION\"]),\n",
        "     (\"666\", [\"VINTAGE HEADS AND TAILS CARD GAME\", \"MINI JIGSAW SPACEBOY\"])\n",
        "    ],\n",
        "    [\"BillNo\", \"items\"]\n",
        ")\n",
        "\n",
        "test.show()"
      ],
      "metadata": {
        "colab": {
          "base_uri": "https://localhost:8080/"
        },
        "id": "Dgnbwyhz3fWb",
        "outputId": "39677d8e-984d-4dee-9c2a-0de56d04cbbb"
      },
      "execution_count": null,
      "outputs": [
        {
          "output_type": "stream",
          "name": "stdout",
          "text": [
            "+------+--------------------+\n",
            "|BillNo|               items|\n",
            "+------+--------------------+\n",
            "|   123|[HAND WARMER RED ...|\n",
            "|   456|[RED COAT RACK PA...|\n",
            "|   666|[VINTAGE HEADS AN...|\n",
            "+------+--------------------+\n",
            "\n"
          ]
        }
      ]
    },
    {
      "cell_type": "code",
      "source": [
        "# Predict the input based on the model\n",
        "result = model.transform(test)\n",
        "result.show()"
      ],
      "metadata": {
        "colab": {
          "base_uri": "https://localhost:8080/"
        },
        "id": "yfF_16To3mTS",
        "outputId": "7937fe4f-17a1-44a1-ce71-3a3137712930"
      },
      "execution_count": null,
      "outputs": [
        {
          "output_type": "stream",
          "name": "stdout",
          "text": [
            "+------+--------------------+--------------------+\n",
            "|BillNo|               items|          prediction|\n",
            "+------+--------------------+--------------------+\n",
            "|   123|[HAND WARMER RED ...|                  []|\n",
            "|   456|[RED COAT RACK PA...|                  []|\n",
            "|   666|[VINTAGE HEADS AN...|[VINTAGE SNAP CARDS]|\n",
            "+------+--------------------+--------------------+\n",
            "\n"
          ]
        }
      ]
    },
    {
      "cell_type": "code",
      "source": [
        "# Convert array of values into rows\n",
        "result = result.select(result.BillNo, result.items, explode(result.prediction).alias(\"prediction\"))\n",
        "result.show()"
      ],
      "metadata": {
        "colab": {
          "base_uri": "https://localhost:8080/"
        },
        "id": "yZWMVx2S3oIX",
        "outputId": "efdaf057-2345-4f21-e4e8-0899e75695a9"
      },
      "execution_count": null,
      "outputs": [
        {
          "output_type": "stream",
          "name": "stdout",
          "text": [
            "+------+--------------------+------------------+\n",
            "|BillNo|               items|        prediction|\n",
            "+------+--------------------+------------------+\n",
            "|   666|[VINTAGE HEADS AN...|VINTAGE SNAP CARDS|\n",
            "+------+--------------------+------------------+\n",
            "\n"
          ]
        }
      ]
    }
  ]
}