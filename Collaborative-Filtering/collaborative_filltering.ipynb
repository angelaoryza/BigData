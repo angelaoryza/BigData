{
  "nbformat": 4,
  "nbformat_minor": 0,
  "metadata": {
    "colab": {
      "provenance": [],
      "mount_file_id": "1VJHp4Q9ByViGVCsMpVlC9WyzBXhA4fwO",
      "authorship_tag": "ABX9TyPNrVEuDqNbzjmGdmSj4Hps",
      "include_colab_link": true
    },
    "kernelspec": {
      "name": "python3",
      "display_name": "Python 3"
    },
    "language_info": {
      "name": "python"
    }
  },
  "cells": [
    {
      "cell_type": "markdown",
      "metadata": {
        "id": "view-in-github",
        "colab_type": "text"
      },
      "source": [
        "<a href=\"https://colab.research.google.com/github/angelaoryza/BigData/blob/main/Collaborative-Filtering/collaborative_filltering.ipynb\" target=\"_parent\"><img src=\"https://colab.research.google.com/assets/colab-badge.svg\" alt=\"Open In Colab\"/></a>"
      ]
    },
    {
      "cell_type": "markdown",
      "source": [
        "# Collaborative Filtering\n",
        "\n",
        "Name : Angela Oryza Prabowo\n",
        "\n",
        "Student Number : 5025201022"
      ],
      "metadata": {
        "id": "1zhkrhs0A_08"
      }
    },
    {
      "cell_type": "markdown",
      "source": [
        "## 1. Checking the Environment"
      ],
      "metadata": {
        "id": "8sU7SECBC8NQ"
      }
    },
    {
      "cell_type": "code",
      "execution_count": 1,
      "metadata": {
        "colab": {
          "base_uri": "https://localhost:8080/"
        },
        "id": "uyN_1XW5A63O",
        "outputId": "89f01a79-1b99-4891-e099-07dbc8969eb8"
      },
      "outputs": [
        {
          "output_type": "stream",
          "name": "stdout",
          "text": [
            "openjdk 11.0.18 2023-01-17\n",
            "OpenJDK Runtime Environment (build 11.0.18+10-post-Ubuntu-0ubuntu120.04.1)\n",
            "OpenJDK 64-Bit Server VM (build 11.0.18+10-post-Ubuntu-0ubuntu120.04.1, mixed mode, sharing)\n",
            "Python 3.9.16\n"
          ]
        }
      ],
      "source": [
        "!java --version\n",
        "!python --version"
      ]
    },
    {
      "cell_type": "markdown",
      "source": [
        "## 2. Initializing PySpark"
      ],
      "metadata": {
        "id": "7KSQ2q7UDYIQ"
      }
    },
    {
      "cell_type": "code",
      "source": [
        "!pip install pyspark"
      ],
      "metadata": {
        "colab": {
          "base_uri": "https://localhost:8080/"
        },
        "id": "7cQKT1oSDD-F",
        "outputId": "40d1f015-71b4-4acd-a11d-2a9d09754020"
      },
      "execution_count": 2,
      "outputs": [
        {
          "output_type": "stream",
          "name": "stdout",
          "text": [
            "Looking in indexes: https://pypi.org/simple, https://us-python.pkg.dev/colab-wheels/public/simple/\n",
            "Collecting pyspark\n",
            "  Downloading pyspark-3.3.2.tar.gz (281.4 MB)\n",
            "\u001b[2K     \u001b[90m━━━━━━━━━━━━━━━━━━━━━━━━━━━━━━━━━━━━━━━\u001b[0m \u001b[32m281.4/281.4 MB\u001b[0m \u001b[31m4.3 MB/s\u001b[0m eta \u001b[36m0:00:00\u001b[0m\n",
            "\u001b[?25h  Preparing metadata (setup.py) ... \u001b[?25l\u001b[?25hdone\n",
            "Collecting py4j==0.10.9.5\n",
            "  Downloading py4j-0.10.9.5-py2.py3-none-any.whl (199 kB)\n",
            "\u001b[2K     \u001b[90m━━━━━━━━━━━━━━━━━━━━━━━━━━━━━━━━━━━━━━\u001b[0m \u001b[32m199.7/199.7 kB\u001b[0m \u001b[31m24.3 MB/s\u001b[0m eta \u001b[36m0:00:00\u001b[0m\n",
            "\u001b[?25hBuilding wheels for collected packages: pyspark\n",
            "  Building wheel for pyspark (setup.py) ... \u001b[?25l\u001b[?25hdone\n",
            "  Created wheel for pyspark: filename=pyspark-3.3.2-py2.py3-none-any.whl size=281824028 sha256=eed25e4a3f2e862bc8fffd92321b1485d2fa90d8ddaa419b31d2504747f68cfa\n",
            "  Stored in directory: /root/.cache/pip/wheels/6c/e3/9b/0525ce8a69478916513509d43693511463c6468db0de237c86\n",
            "Successfully built pyspark\n",
            "Installing collected packages: py4j, pyspark\n",
            "  Attempting uninstall: py4j\n",
            "    Found existing installation: py4j 0.10.9.7\n",
            "    Uninstalling py4j-0.10.9.7:\n",
            "      Successfully uninstalled py4j-0.10.9.7\n",
            "Successfully installed py4j-0.10.9.5 pyspark-3.3.2\n"
          ]
        }
      ]
    },
    {
      "cell_type": "markdown",
      "source": [
        "## 3. Initialize Apache Spark Context"
      ],
      "metadata": {
        "id": "T8dbqc-FDhr4"
      }
    },
    {
      "cell_type": "code",
      "source": [
        "# Import Apache Spark SQL\n",
        "from pyspark.sql import SparkSession\n",
        "\n",
        "spark = SparkSession.builder \\\n",
        "  .master(\"local[*]\") \\\n",
        "  .appName(\"Collaborative Filtering\") \\\n",
        "  .config(\"spark.some.config.option\", \"some-value\") \\\n",
        "  .getOrCreate()"
      ],
      "metadata": {
        "id": "3kE-ZX2bDb7Y"
      },
      "execution_count": 7,
      "outputs": []
    },
    {
      "cell_type": "markdown",
      "source": [
        "## 4. Import Necessary Libraries"
      ],
      "metadata": {
        "id": "hvF381LTEk43"
      }
    },
    {
      "cell_type": "code",
      "source": [
        "from pyspark.ml.evaluation import RegressionEvaluator\n",
        "from pyspark.ml.recommendation import ALS\n",
        "from pyspark.sql import Row"
      ],
      "metadata": {
        "id": "AirJ-LXVEBcr"
      },
      "execution_count": 4,
      "outputs": []
    },
    {
      "cell_type": "markdown",
      "source": [
        "## 5. Mount the target text file"
      ],
      "metadata": {
        "id": "1zD_uOF8E7BU"
      }
    },
    {
      "cell_type": "code",
      "source": [
        "from google.colab import drive\n",
        "drive.mount('/content/gdrive/')"
      ],
      "metadata": {
        "colab": {
          "base_uri": "https://localhost:8080/"
        },
        "id": "BcHV1_GVE4QX",
        "outputId": "62d55014-1be3-492a-da89-825b93a7027d"
      },
      "execution_count": 10,
      "outputs": [
        {
          "output_type": "stream",
          "name": "stdout",
          "text": [
            "Drive already mounted at /content/gdrive/; to attempt to forcibly remount, call drive.mount(\"/content/gdrive/\", force_remount=True).\n"
          ]
        }
      ]
    },
    {
      "cell_type": "markdown",
      "source": [
        "## 6. Read the sample text file"
      ],
      "metadata": {
        "id": "-TPCn1TqG-S0"
      }
    },
    {
      "cell_type": "code",
      "source": [
        "lines = spark.read.text(\"/content/gdrive/MyDrive/Big Data/sample_text.txt\").rdd\n",
        "parts = lines.map(lambda row: row.value.split(\"::\"))\n",
        "ratingsRDD = parts.map(lambda p: Row(userId=int(p[0]), movieId=int(p[1]), rating=float(p[2]), timestamp=int(p[3])))\n",
        "ratings = spark.createDataFrame(ratingsRDD)"
      ],
      "metadata": {
        "id": "KZQ20EAUGYA3"
      },
      "execution_count": 14,
      "outputs": []
    },
    {
      "cell_type": "markdown",
      "source": [
        "## 7. Preview the DataFrame"
      ],
      "metadata": {
        "id": "rmvOayCMIjvd"
      }
    },
    {
      "cell_type": "code",
      "source": [
        "ratings.head(6)"
      ],
      "metadata": {
        "colab": {
          "base_uri": "https://localhost:8080/"
        },
        "id": "j02JLgqdH_h9",
        "outputId": "b67f1784-17dd-43b0-801e-c9356c54d7a5"
      },
      "execution_count": 15,
      "outputs": [
        {
          "output_type": "execute_result",
          "data": {
            "text/plain": [
              "[Row(userId=0, movieId=2, rating=3.0, timestamp=1424380312),\n",
              " Row(userId=0, movieId=3, rating=1.0, timestamp=1424380312),\n",
              " Row(userId=0, movieId=5, rating=2.0, timestamp=1424380312),\n",
              " Row(userId=0, movieId=9, rating=4.0, timestamp=1424380312),\n",
              " Row(userId=0, movieId=11, rating=1.0, timestamp=1424380312),\n",
              " Row(userId=0, movieId=12, rating=2.0, timestamp=1424380312)]"
            ]
          },
          "metadata": {},
          "execution_count": 15
        }
      ]
    },
    {
      "cell_type": "markdown",
      "source": [
        "## 8. Prepare the data and split into train and test data"
      ],
      "metadata": {
        "id": "vbzaQ31FIp0a"
      }
    },
    {
      "cell_type": "code",
      "source": [
        "training, test = ratings.randomSplit([0.8, 0.2])"
      ],
      "metadata": {
        "id": "8nBDOPLGIgFU"
      },
      "execution_count": 16,
      "outputs": []
    },
    {
      "cell_type": "markdown",
      "source": [
        "## 9. Build the recommendation model using ALS on the training data\n",
        "\n",
        "We would try to build our recommendation model using several hyperparameters. We are going to tune the **regParam** and **maxIter** with some different values"
      ],
      "metadata": {
        "id": "zzon0eRXI-OZ"
      }
    },
    {
      "cell_type": "code",
      "source": [
        "# Here we use the combination of regParam = 0.1, 0.5, and maxIter = 5, 10. Hence, we will have 4 different models for our ALS\n",
        "models = []\n",
        "\n",
        "for rp in [0.1, 0.5, 1.0]:\n",
        "  for mi in [5, 10, 15]:\n",
        "    print(rp, mi)\n",
        "    als = ALS(maxIter=mi, regParam=rp, userCol=\"userId\", itemCol=\"movieId\", ratingCol=\"rating\", coldStartStrategy=\"drop\")\n",
        "    model_one = als.fit(training)\n",
        "    models.append([model_one, rp, mi])"
      ],
      "metadata": {
        "colab": {
          "base_uri": "https://localhost:8080/"
        },
        "id": "iCi1KDU3I3Zy",
        "outputId": "b5b2aa1f-fa03-44b9-a2ab-d6aab70c66c0"
      },
      "execution_count": 45,
      "outputs": [
        {
          "output_type": "stream",
          "name": "stdout",
          "text": [
            "0.1 5\n",
            "0.1 10\n",
            "0.1 15\n",
            "0.5 5\n",
            "0.5 10\n",
            "0.5 15\n",
            "1.0 5\n",
            "1.0 10\n",
            "1.0 15\n"
          ]
        }
      ]
    },
    {
      "cell_type": "code",
      "source": [
        "models"
      ],
      "metadata": {
        "colab": {
          "base_uri": "https://localhost:8080/"
        },
        "id": "s92h4Dx2OyjM",
        "outputId": "1616337c-9189-4d21-a114-ce742cf46923"
      },
      "execution_count": 28,
      "outputs": [
        {
          "output_type": "execute_result",
          "data": {
            "text/plain": [
              "[[ALSModel: uid=ALS_1f70b8380bf1, rank=10, 0.1, 5],\n",
              " [ALSModel: uid=ALS_6049dc2c4443, rank=10, 0.1, 10],\n",
              " [ALSModel: uid=ALS_77e69a2d3dba, rank=10, 0.1, 15],\n",
              " [ALSModel: uid=ALS_e269eaf998af, rank=10, 0.5, 5],\n",
              " [ALSModel: uid=ALS_d0bda153abe0, rank=10, 0.5, 10],\n",
              " [ALSModel: uid=ALS_a79fa61addec, rank=10, 0.5, 15],\n",
              " [ALSModel: uid=ALS_279ffd5dc322, rank=10, 1.0, 5],\n",
              " [ALSModel: uid=ALS_3896b30f9a1b, rank=10, 1.0, 10],\n",
              " [ALSModel: uid=ALS_c3720e843d91, rank=10, 1.0, 15]]"
            ]
          },
          "metadata": {},
          "execution_count": 28
        }
      ]
    },
    {
      "cell_type": "markdown",
      "source": [
        "## 10. Predicting the data based on the previously built model and evaluate the SSE"
      ],
      "metadata": {
        "id": "PXu_y8xfOUj1"
      }
    },
    {
      "cell_type": "code",
      "source": [
        "rmses = []\n",
        "for model in models:\n",
        "  predictions = model[0].transform(test)\n",
        "  evaluator = RegressionEvaluator(metricName=\"rmse\", labelCol=\"rating\", predictionCol=\"prediction\" )\n",
        "  rmse = evaluator.evaluate(predictions)\n",
        "  rmses.append(rmse)\n",
        "  print(\" Root-mean-square error for models with regParam  \" + str(model[1]) + \" and maxIter \" + str(model[2]) + \" is \" + str(rmse))"
      ],
      "metadata": {
        "colab": {
          "base_uri": "https://localhost:8080/"
        },
        "id": "HnQShMVjLXKt",
        "outputId": "792cf7de-2cc7-4b29-b4d7-9824ee0d7dd3"
      },
      "execution_count": 32,
      "outputs": [
        {
          "output_type": "stream",
          "name": "stdout",
          "text": [
            " Root-mean-square error for models with regParam  0.1 and maxIter 5 is 1.0501190331351993\n",
            " Root-mean-square error for models with regParam  0.1 and maxIter 10 is 1.018750693475064\n",
            " Root-mean-square error for models with regParam  0.1 and maxIter 15 is 1.0195354061382047\n",
            " Root-mean-square error for models with regParam  0.5 and maxIter 5 is 1.3205865765004299\n",
            " Root-mean-square error for models with regParam  0.5 and maxIter 10 is 1.3187854094113347\n",
            " Root-mean-square error for models with regParam  0.5 and maxIter 15 is 1.318364512069762\n",
            " Root-mean-square error for models with regParam  1.0 and maxIter 5 is 1.5870639855043165\n",
            " Root-mean-square error for models with regParam  1.0 and maxIter 10 is 1.587062305210057\n",
            " Root-mean-square error for models with regParam  1.0 and maxIter 15 is 1.5870623115451463\n"
          ]
        }
      ]
    },
    {
      "cell_type": "code",
      "source": [
        "import matplotlib.pyplot as plt\n",
        "\n",
        "plt.plot(rmses, marker=\".\")"
      ],
      "metadata": {
        "colab": {
          "base_uri": "https://localhost:8080/",
          "height": 447
        },
        "id": "67r4cPZ_Ptu7",
        "outputId": "66199bff-2866-4565-f595-1c1803720a77"
      },
      "execution_count": 43,
      "outputs": [
        {
          "output_type": "execute_result",
          "data": {
            "text/plain": [
              "[<matplotlib.lines.Line2D at 0x7fa61812a130>]"
            ]
          },
          "metadata": {},
          "execution_count": 43
        },
        {
          "output_type": "display_data",
          "data": {
            "text/plain": [
              "<Figure size 640x480 with 1 Axes>"
            ],
            "image/png": "[encoded data removed]"
          },
          "metadata": {}
        }
      ]
    },
    {
      "cell_type": "code",
      "source": [
        "lowest_rmse = min(rmses)\n",
        "lowest_rmse"
      ],
      "metadata": {
        "colab": {
          "base_uri": "https://localhost:8080/"
        },
        "id": "JHrGdsNkVo9Q",
        "outputId": "a9eb1d89-071c-4e95-8d46-2eb6e7938b85"
      },
      "execution_count": 47,
      "outputs": [
        {
          "output_type": "execute_result",
          "data": {
            "text/plain": [
              "1.018750693475064"
            ]
          },
          "metadata": {},
          "execution_count": 47
        }
      ]
    },
    {
      "cell_type": "markdown",
      "source": [
        "🪄 Based on the Root-Mean-Square Error, we could see that the change was significantly made when we change the **regParam** value. \n",
        "\n",
        "🪄 We also could conclude that the lowest RMSE for this dataset is 1.018750693475064\n",
        "\n",
        "🪄 This RMSE score was achieved by the model with **regParam = 0.1** and **maxIter=10**\n"
      ],
      "metadata": {
        "id": "iUxQxaYsTc00"
      }
    },
    {
      "cell_type": "markdown",
      "source": [
        "## 11. Generating Movie Recommendation with the Best Model"
      ],
      "metadata": {
        "id": "kg_fvtU1WLzE"
      }
    },
    {
      "cell_type": "code",
      "source": [
        "# Generate top 10 movie recommendations for each user\n",
        "userRecs = models[1][0].recommendForAllUsers(10)\n",
        "userRecs.show()"
      ],
      "metadata": {
        "colab": {
          "base_uri": "https://localhost:8080/"
        },
        "id": "Rf7975oxQ2Qf",
        "outputId": "032d2a68-b46d-46d1-901e-242879fc9156"
      },
      "execution_count": 58,
      "outputs": [
        {
          "output_type": "stream",
          "name": "stdout",
          "text": [
            "+------+--------------------+\n",
            "|userId|     recommendations|\n",
            "+------+--------------------+\n",
            "|    20|[{22, 4.098745}, ...|\n",
            "|    10|[{2, 3.1143324}, ...|\n",
            "|     0|[{9, 2.8032227}, ...|\n",
            "|     1|[{22, 3.0840268},...|\n",
            "|    21|[{52, 4.516744}, ...|\n",
            "|    11|[{18, 4.753129}, ...|\n",
            "|    12|[{27, 4.11771}, {...|\n",
            "|    22|[{51, 4.3857274},...|\n",
            "|     2|[{83, 4.848958}, ...|\n",
            "|    13|[{74, 2.6432512},...|\n",
            "|     3|[{51, 4.1990194},...|\n",
            "|    23|[{32, 4.741954}, ...|\n",
            "|     4|[{29, 3.627738}, ...|\n",
            "|    24|[{52, 4.4639874},...|\n",
            "|    14|[{52, 4.458726}, ...|\n",
            "|     5|[{90, 4.0117207},...|\n",
            "|    15|[{1, 2.6132884}, ...|\n",
            "|    25|[{71, 3.0969117},...|\n",
            "|    26|[{51, 4.616008}, ...|\n",
            "|     6|[{25, 3.9476633},...|\n",
            "+------+--------------------+\n",
            "only showing top 20 rows\n",
            "\n"
          ]
        }
      ]
    },
    {
      "cell_type": "code",
      "source": [
        "# Generate top 10 user recommendations for each movie\n",
        "movieRecs = models[1][0].recommendForAllItems(10)\n",
        "movieRecs.show()"
      ],
      "metadata": {
        "colab": {
          "base_uri": "https://localhost:8080/"
        },
        "id": "jZshowi2WYDp",
        "outputId": "d238383f-7b51-4051-9249-dfb00f7a1591"
      },
      "execution_count": 60,
      "outputs": [
        {
          "output_type": "stream",
          "name": "stdout",
          "text": [
            "+-------+--------------------+\n",
            "|movieId|     recommendations|\n",
            "+-------+--------------------+\n",
            "|     20|[{17, 3.8113723},...|\n",
            "|     40|[{2, 3.3311265}, ...|\n",
            "|     10|[{17, 3.32023}, {...|\n",
            "|     50|[{23, 3.808243}, ...|\n",
            "|     80|[{3, 3.1351068}, ...|\n",
            "|     70|[{4, 3.0558097}, ...|\n",
            "|     60|[{22, 2.4578345},...|\n",
            "|     90|[{17, 4.521472}, ...|\n",
            "|     30|[{11, 4.2920747},...|\n",
            "|      0|[{28, 2.6123447},...|\n",
            "|     31|[{7, 2.5307412}, ...|\n",
            "|     81|[{11, 3.2674375},...|\n",
            "|     91|[{12, 2.952227}, ...|\n",
            "|      1|[{15, 2.6132884},...|\n",
            "|     41|[{4, 3.2335463}, ...|\n",
            "|     61|[{8, 1.5531374}, ...|\n",
            "|     51|[{26, 4.616008}, ...|\n",
            "|     21|[{26, 2.8570204},...|\n",
            "|     11|[{2, 3.4251788}, ...|\n",
            "|     71|[{25, 3.0969117},...|\n",
            "+-------+--------------------+\n",
            "only showing top 20 rows\n",
            "\n"
          ]
        }
      ]
    },
    {
      "cell_type": "code",
      "source": [
        "# Generate top 10 movie recommendations for a specified set of users\n",
        "users = ratings.select(als.getUserCol()).distinct().limit(3)\n",
        "userSubsetRecs = models[1][0].recommendForUserSubset(users, 10)\n",
        "userSubsetRecs.show()"
      ],
      "metadata": {
        "colab": {
          "base_uri": "https://localhost:8080/"
        },
        "id": "oDSptEENW8qr",
        "outputId": "459d4372-ee7b-4443-ebd9-f9bbac545f6a"
      },
      "execution_count": 62,
      "outputs": [
        {
          "output_type": "stream",
          "name": "stdout",
          "text": [
            "+------+--------------------+\n",
            "|userId|     recommendations|\n",
            "+------+--------------------+\n",
            "|    26|[{51, 4.616008}, ...|\n",
            "|    19|[{22, 3.2810826},...|\n",
            "|    29|[{90, 3.6386604},...|\n",
            "+------+--------------------+\n",
            "\n"
          ]
        }
      ]
    },
    {
      "cell_type": "code",
      "source": [
        "# Generate top 10 user recommendations for a specified set of movies\n",
        "movies = ratings.select(als.getItemCol()).distinct().limit(3)\n",
        "movieSubSetRecs = models[1][0].recommendForItemSubset(movies, 10)\n",
        "movieSubSetRecs.show()"
      ],
      "metadata": {
        "colab": {
          "base_uri": "https://localhost:8080/"
        },
        "id": "WjBnEGFvXO1w",
        "outputId": "44c5895f-6d84-4b4e-9ba2-e6c42422e638"
      },
      "execution_count": 63,
      "outputs": [
        {
          "output_type": "stream",
          "name": "stdout",
          "text": [
            "+-------+--------------------+\n",
            "|movieId|     recommendations|\n",
            "+-------+--------------------+\n",
            "|     65|[{23, 3.9820974},...|\n",
            "|     26|[{15, 2.3899853},...|\n",
            "|     29|[{8, 4.859599}, {...|\n",
            "+-------+--------------------+\n",
            "\n"
          ]
        }
      ]
    }
  ]
}