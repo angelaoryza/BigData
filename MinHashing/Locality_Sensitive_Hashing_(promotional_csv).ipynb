{
  "nbformat": 4,
  "nbformat_minor": 0,
  "metadata": {
    "colab": {
      "provenance": [],
      "authorship_tag": "ABX9TyOy679UfVMkCCtco59snd47",
      "include_colab_link": true
    },
    "kernelspec": {
      "name": "python3",
      "display_name": "Python 3"
    },
    "language_info": {
      "name": "python"
    }
  },
  "cells": [
    {
      "cell_type": "markdown",
      "metadata": {
        "id": "view-in-github",
        "colab_type": "text"
      },
      "source": [
        "<a href=\"https://colab.research.google.com/github/angelaoryza/BigData/blob/main/MinHashing/Locality_Sensitive_Hashing_(promotional_csv).ipynb\" target=\"_parent\"><img src=\"https://colab.research.google.com/assets/colab-badge.svg\" alt=\"Open In Colab\"/></a>"
      ]
    },
    {
      "cell_type": "markdown",
      "source": [
        "# **Big Data : Assignment 3**\n",
        "\n",
        "Name : Angela Oryza Prabowo\n",
        "Student Number : 5025201022"
      ],
      "metadata": {
        "id": "2FQcJYp5MCc6"
      }
    },
    {
      "cell_type": "markdown",
      "source": [
        "## **Checking the Environment**"
      ],
      "metadata": {
        "id": "MAXunktftoYc"
      }
    },
    {
      "cell_type": "code",
      "execution_count": 20,
      "metadata": {
        "id": "g_3wAQrdteoA",
        "colab": {
          "base_uri": "https://localhost:8080/"
        },
        "outputId": "f9d6cc9a-0716-4f9a-976a-0a17099dc82f"
      },
      "outputs": [
        {
          "output_type": "stream",
          "name": "stdout",
          "text": [
            "openjdk 11.0.18 2023-01-17\n",
            "OpenJDK Runtime Environment (build 11.0.18+10-post-Ubuntu-0ubuntu120.04.1)\n",
            "OpenJDK 64-Bit Server VM (build 11.0.18+10-post-Ubuntu-0ubuntu120.04.1, mixed mode, sharing)\n",
            "Python 3.8.10\n"
          ]
        }
      ],
      "source": [
        "!java --version\n",
        "!python --version"
      ]
    },
    {
      "cell_type": "markdown",
      "source": [
        "## **Installing Apache Spark (PySpark)**"
      ],
      "metadata": {
        "id": "Yeg7ckCiuULe"
      }
    },
    {
      "cell_type": "code",
      "source": [
        "!pip install pyspark"
      ],
      "metadata": {
        "colab": {
          "base_uri": "https://localhost:8080/"
        },
        "id": "6c_s0P-9uJv2",
        "outputId": "2c2211fc-6d77-4c5d-b63f-63b70ecaa947"
      },
      "execution_count": 21,
      "outputs": [
        {
          "output_type": "stream",
          "name": "stdout",
          "text": [
            "Looking in indexes: https://pypi.org/simple, https://us-python.pkg.dev/colab-wheels/public/simple/\n",
            "Requirement already satisfied: pyspark in /usr/local/lib/python3.8/dist-packages (3.3.2)\n",
            "Requirement already satisfied: py4j==0.10.9.5 in /usr/local/lib/python3.8/dist-packages (from pyspark) (0.10.9.5)\n"
          ]
        }
      ]
    },
    {
      "cell_type": "markdown",
      "source": [
        "## **Initialize Apache Spark Context**"
      ],
      "metadata": {
        "id": "LNNiDc9NvBUd"
      }
    },
    {
      "cell_type": "code",
      "source": [
        "#Import Apache Spark SQL\n",
        "from pyspark.sql import SparkSession\n",
        "\n",
        "# Create Spark Session or Context\n",
        "# We are using local machine with all CPU Scres indicated by the sign [*]\n",
        "spark = SparkSession.builder \\\n",
        "    .master(\"local[*]\") \\\n",
        "    .appName(\"My Pyspark\") \\\n",
        "    .config(\"spark.some.config.option\", \"some-value\") \\\n",
        "    .getOrCreate()\n",
        "      \n"
      ],
      "metadata": {
        "id": "lM2MOFUQuiGr"
      },
      "execution_count": 22,
      "outputs": []
    },
    {
      "cell_type": "markdown",
      "source": [
        "## **Data Mining Task**\n",
        "\n",
        "The LSH task always consists of three steps:\n",
        "\n",
        "\n",
        "1.   Converting original data into vectors\n",
        "2.   Calculate the hash using MinHash algorithm\n",
        "3.   Searching the similar pair using k-Nearest Neighbor, or join algorithm.\n",
        "\n",
        "\n",
        "\n",
        "\n"
      ],
      "metadata": {
        "id": "HqZ57BYuPSDE"
      }
    },
    {
      "cell_type": "markdown",
      "source": [
        "## Downloading the dataset"
      ],
      "metadata": {
        "id": "JlYaEOvpQtgm"
      }
    },
    {
      "cell_type": "code",
      "source": [
        "!pip install kaggle"
      ],
      "metadata": {
        "id": "AvugzBTFOvYt",
        "colab": {
          "base_uri": "https://localhost:8080/"
        },
        "outputId": "ab7c15c8-f455-477c-e0df-e96a7e6bb4f5"
      },
      "execution_count": 23,
      "outputs": [
        {
          "output_type": "stream",
          "name": "stdout",
          "text": [
            "Looking in indexes: https://pypi.org/simple, https://us-python.pkg.dev/colab-wheels/public/simple/\n",
            "Requirement already satisfied: kaggle in /usr/local/lib/python3.8/dist-packages (1.5.13)\n",
            "Requirement already satisfied: python-dateutil in /usr/local/lib/python3.8/dist-packages (from kaggle) (2.8.2)\n",
            "Requirement already satisfied: certifi in /usr/local/lib/python3.8/dist-packages (from kaggle) (2022.12.7)\n",
            "Requirement already satisfied: python-slugify in /usr/local/lib/python3.8/dist-packages (from kaggle) (8.0.1)\n",
            "Requirement already satisfied: six>=1.10 in /usr/local/lib/python3.8/dist-packages (from kaggle) (1.15.0)\n",
            "Requirement already satisfied: urllib3 in /usr/local/lib/python3.8/dist-packages (from kaggle) (1.26.14)\n",
            "Requirement already satisfied: tqdm in /usr/local/lib/python3.8/dist-packages (from kaggle) (4.64.1)\n",
            "Requirement already satisfied: requests in /usr/local/lib/python3.8/dist-packages (from kaggle) (2.25.1)\n",
            "Requirement already satisfied: text-unidecode>=1.3 in /usr/local/lib/python3.8/dist-packages (from python-slugify->kaggle) (1.3)\n",
            "Requirement already satisfied: idna<3,>=2.5 in /usr/local/lib/python3.8/dist-packages (from requests->kaggle) (2.10)\n",
            "Requirement already satisfied: chardet<5,>=3.0.2 in /usr/local/lib/python3.8/dist-packages (from requests->kaggle) (4.0.0)\n"
          ]
        }
      ]
    },
    {
      "cell_type": "code",
      "source": [
        "!mkdir ~/.kaggle/\n",
        "!touch ~/.kaggle/kaggle.json\n",
        "\n",
        "api_token = {\"username\":\"angelaoryza\",\"key\":\"92d91d6fa54d3437723ec48fbf817808\"}\n",
        "\n",
        "import json \n",
        "\n",
        "with open('/root/.kaggle/kaggle.json', 'w') as file:\n",
        "    json.dump(api_token, file)\n",
        "\n",
        "!chmod 600 ~/.kaggle/kaggle.json"
      ],
      "metadata": {
        "id": "7zoHu7gGQ2Nz",
        "colab": {
          "base_uri": "https://localhost:8080/"
        },
        "outputId": "1c07f7e0-bd54-454a-b0c2-15434e1b37d0"
      },
      "execution_count": 24,
      "outputs": [
        {
          "output_type": "stream",
          "name": "stdout",
          "text": [
            "mkdir: cannot create directory ‘/root/.kaggle/’: File exists\n"
          ]
        }
      ]
    },
    {
      "cell_type": "code",
      "source": [
        "# Download from https://www.kaggle.com/datasets/urbanbricks/wikipedia-promotional-articles\n",
        "\n",
        "!kaggle datasets download -d urbanbricks/wikipedia-promotional-articles"
      ],
      "metadata": {
        "colab": {
          "base_uri": "https://localhost:8080/"
        },
        "id": "xYvSrTDmBKEE",
        "outputId": "74637772-f8b8-402c-dbf7-3a05460fd239"
      },
      "execution_count": 25,
      "outputs": [
        {
          "output_type": "stream",
          "name": "stdout",
          "text": [
            "wikipedia-promotional-articles.zip: Skipping, found more recently modified local copy (use --force to force download)\n"
          ]
        }
      ]
    },
    {
      "cell_type": "code",
      "source": [
        "!unzip wikipedia-promotional-articles.zip"
      ],
      "metadata": {
        "colab": {
          "base_uri": "https://localhost:8080/"
        },
        "id": "DQTURbKjBafi",
        "outputId": "2e1cb9b9-2469-40af-d893-86a0c2d7447f"
      },
      "execution_count": 26,
      "outputs": [
        {
          "output_type": "stream",
          "name": "stdout",
          "text": [
            "Archive:  wikipedia-promotional-articles.zip\n",
            "replace good.csv? [y]es, [n]o, [A]ll, [N]one, [r]ename: y\n",
            "  inflating: good.csv                \n",
            "replace promotional.csv? [y]es, [n]o, [A]ll, [N]one, [r]ename: y\n",
            "  inflating: promotional.csv         \n"
          ]
        }
      ]
    },
    {
      "cell_type": "code",
      "source": [
        "!ls -la"
      ],
      "metadata": {
        "colab": {
          "base_uri": "https://localhost:8080/"
        },
        "id": "kaS26HguBhWv",
        "outputId": "5d8edf32-055f-4708-e494-37fa8cfcc798"
      },
      "execution_count": 27,
      "outputs": [
        {
          "output_type": "stream",
          "name": "stdout",
          "text": [
            "total 783140\n",
            "drwxr-xr-x 1 root root      4096 Mar  8 07:20 .\n",
            "drwxr-xr-x 1 root root      4096 Mar  8 06:54 ..\n",
            "drwxr-xr-x 4 root root      4096 Mar  6 17:51 .config\n",
            "-rw-r--r-- 1 root root 475685227 Oct 27  2019 good.csv\n",
            "-rw-r--r-- 1 root root 115360355 Oct 27  2019 promotional.csv\n",
            "drwxr-xr-x 1 root root      4096 Mar  6 17:52 sample_data\n",
            "-rw-r--r-- 1 root root 210863294 Mar  8 07:02 wikipedia-promotional-articles.zip\n"
          ]
        }
      ]
    },
    {
      "cell_type": "markdown",
      "source": [
        "## **Read the dataset**"
      ],
      "metadata": {
        "id": "sG8Lw9XiB6cO"
      }
    },
    {
      "cell_type": "code",
      "source": [
        "# Read CSV\n",
        "df = spark.read.option(\"header\", True).csv(\"/content/promotional.csv\")\n",
        "df.printSchema()"
      ],
      "metadata": {
        "colab": {
          "base_uri": "https://localhost:8080/"
        },
        "id": "c2pizOk4B4Pg",
        "outputId": "71059835-54c5-4e67-96cd-38e8c472d42b"
      },
      "execution_count": 28,
      "outputs": [
        {
          "output_type": "stream",
          "name": "stdout",
          "text": [
            "root\n",
            " |-- text: string (nullable = true)\n",
            " |-- advert: string (nullable = true)\n",
            " |-- coi: string (nullable = true)\n",
            " |-- fanpov: string (nullable = true)\n",
            " |-- pr: string (nullable = true)\n",
            " |-- resume: string (nullable = true)\n",
            " |-- url: string (nullable = true)\n",
            "\n"
          ]
        }
      ]
    },
    {
      "cell_type": "code",
      "source": [
        "# Add an ID for the dataset\n",
        "from pyspark.sql.functions import monotonically_increasing_id\n",
        "\n",
        "newsDF = df.withColumn(\"id\", monotonically_increasing_id())\n",
        "newsDF.show()"
      ],
      "metadata": {
        "colab": {
          "base_uri": "https://localhost:8080/"
        },
        "id": "5e-2ieXfCS29",
        "outputId": "8147ceb3-62d0-480b-f5b6-bdc1a763816e"
      },
      "execution_count": 29,
      "outputs": [
        {
          "output_type": "stream",
          "name": "stdout",
          "text": [
            "+--------------------+------+---+------+---+------+--------------------+---+\n",
            "|                text|advert|coi|fanpov| pr|resume|                 url| id|\n",
            "+--------------------+------+---+------+---+------+--------------------+---+\n",
            "|1 Litre no Namida...|     0|  0|     1|  0|     0|https://en.wikipe...|  0|\n",
            "|1DayLater was fre...|     1|  1|     0|  0|     0|https://en.wikipe...|  1|\n",
            "|1E is a privately...|     1|  0|     0|  0|     0|https://en.wikipe...|  2|\n",
            "|1Malaysia pronoun...|     1|  0|     0|  0|     0|https://en.wikipe...|  3|\n",
            "|The Jerusalem Bie...|     1|  0|     0|  0|     0|https://en.wikipe...|  4|\n",
            "|1st Round Enterpr...|     0|  0|     0|  1|     0|https://en.wikipe...|  5|\n",
            "|2ergo is a provid...|     1|  0|     0|  0|     0|https://en.wikipe...|  6|\n",
            "|2N Telekomunikace...|     1|  0|     0|  0|     0|https://en.wikipe...|  7|\n",
            "|A 3D printing mar...|     1|  0|     0|  0|     0|https://en.wikipe...|  8|\n",
            "|3DR is an America...|     1|  1|     0|  0|     0|https://en.wikipe...|  9|\n",
            "|3D Systems, headq...|     1|  0|     0|  0|     0|https://en.wikipe...| 10|\n",
            "|3Delight, is 3D c...|     0|  0|     0|  0|     1|https://en.wikipe...| 11|\n",
            "|3DVIA is a brand ...|     1|  1|     0|  0|     0|https://en.wikipe...| 12|\n",
            "|3i Infotech Ltd e...|     1|  0|     0|  0|     0|https://en.wikipe...| 13|\n",
            "|3logy is the Pino...|     1|  0|     0|  0|     0|https://en.wikipe...| 14|\n",
            "|The 4 Hour Chef T...|     1|  0|     0|  1|     0|https://en.wikipe...| 15|\n",
            "|4Children was a c...|     1|  1|     0|  0|     0|https://en.wikipe...| 16|\n",
            "|If this article d...|     1|  0|     0|  0|     0|https://en.wikipe...| 17|\n",
            "|4G Americas is a ...|     0|  0|     0|  1|     0|https://en.wikipe...| 18|\n",
            "|4MMM identified o...|     1|  0|     0|  0|     0|https://en.wikipe...| 19|\n",
            "+--------------------+------+---+------+---+------+--------------------+---+\n",
            "only showing top 20 rows\n",
            "\n"
          ]
        }
      ]
    },
    {
      "cell_type": "code",
      "source": [
        "# Get the total rows\n",
        "newsDF.count()"
      ],
      "metadata": {
        "colab": {
          "base_uri": "https://localhost:8080/"
        },
        "id": "Fw3PTkQCC-CY",
        "outputId": "0a598bdd-5576-446c-a519-969f50a685ed"
      },
      "execution_count": 30,
      "outputs": [
        {
          "output_type": "execute_result",
          "data": {
            "text/plain": [
              "23837"
            ]
          },
          "metadata": {},
          "execution_count": 30
        }
      ]
    },
    {
      "cell_type": "markdown",
      "source": [
        "### **1. Prepare the Tokenizer**\n",
        "We transform the input into tokenized words"
      ],
      "metadata": {
        "id": "5QRQkqTNDghi"
      }
    },
    {
      "cell_type": "code",
      "source": [
        "# Prepare the tokenizer\n",
        "from pyspark.ml.feature import Tokenizer\n",
        "\n",
        "# In this section, since we're using the Tokenizer, the k-value for the input words is limited to 1\n",
        "# Hence, the text will be split  each word\n",
        "tokenizer = Tokenizer(inputCol=\"text\", outputCol=\"words\")\n",
        "wordsDF = tokenizer.transform(newsDF)\n",
        "\n",
        "wordsDF.show()"
      ],
      "metadata": {
        "colab": {
          "base_uri": "https://localhost:8080/"
        },
        "id": "HD5OquTjDbiA",
        "outputId": "12b2ed0f-b042-4d86-da43-4129a1629c0d"
      },
      "execution_count": 31,
      "outputs": [
        {
          "output_type": "stream",
          "name": "stdout",
          "text": [
            "+--------------------+------+---+------+---+------+--------------------+---+--------------------+\n",
            "|                text|advert|coi|fanpov| pr|resume|                 url| id|               words|\n",
            "+--------------------+------+---+------+---+------+--------------------+---+--------------------+\n",
            "|1 Litre no Namida...|     0|  0|     1|  0|     0|https://en.wikipe...|  0|[1, litre, no, na...|\n",
            "|1DayLater was fre...|     1|  1|     0|  0|     0|https://en.wikipe...|  1|[1daylater, was, ...|\n",
            "|1E is a privately...|     1|  0|     0|  0|     0|https://en.wikipe...|  2|[1e, is, a, priva...|\n",
            "|1Malaysia pronoun...|     1|  0|     0|  0|     0|https://en.wikipe...|  3|[1malaysia, prono...|\n",
            "|The Jerusalem Bie...|     1|  0|     0|  0|     0|https://en.wikipe...|  4|[the, jerusalem, ...|\n",
            "|1st Round Enterpr...|     0|  0|     0|  1|     0|https://en.wikipe...|  5|[1st, round, ente...|\n",
            "|2ergo is a provid...|     1|  0|     0|  0|     0|https://en.wikipe...|  6|[2ergo, is, a, pr...|\n",
            "|2N Telekomunikace...|     1|  0|     0|  0|     0|https://en.wikipe...|  7|[2n, telekomunika...|\n",
            "|A 3D printing mar...|     1|  0|     0|  0|     0|https://en.wikipe...|  8|[a, 3d, printing,...|\n",
            "|3DR is an America...|     1|  1|     0|  0|     0|https://en.wikipe...|  9|[3dr, is, an, ame...|\n",
            "|3D Systems, headq...|     1|  0|     0|  0|     0|https://en.wikipe...| 10|[3d, systems,, he...|\n",
            "|3Delight, is 3D c...|     0|  0|     0|  0|     1|https://en.wikipe...| 11|[3delight,, is, 3...|\n",
            "|3DVIA is a brand ...|     1|  1|     0|  0|     0|https://en.wikipe...| 12|[3dvia, is, a, br...|\n",
            "|3i Infotech Ltd e...|     1|  0|     0|  0|     0|https://en.wikipe...| 13|[3i, infotech, lt...|\n",
            "|3logy is the Pino...|     1|  0|     0|  0|     0|https://en.wikipe...| 14|[3logy, is, the, ...|\n",
            "|The 4 Hour Chef T...|     1|  0|     0|  1|     0|https://en.wikipe...| 15|[the, 4, hour, ch...|\n",
            "|4Children was a c...|     1|  1|     0|  0|     0|https://en.wikipe...| 16|[4children, was, ...|\n",
            "|If this article d...|     1|  0|     0|  0|     0|https://en.wikipe...| 17|[if, this, articl...|\n",
            "|4G Americas is a ...|     0|  0|     0|  1|     0|https://en.wikipe...| 18|[4g, americas, is...|\n",
            "|4MMM identified o...|     1|  0|     0|  0|     0|https://en.wikipe...| 19|[4mmm, identified...|\n",
            "+--------------------+------+---+------+---+------+--------------------+---+--------------------+\n",
            "only showing top 20 rows\n",
            "\n"
          ]
        }
      ]
    },
    {
      "cell_type": "code",
      "source": [
        "# Vectorize the dataset\n",
        "from pyspark.ml.feature import CountVectorizer\n",
        "\n",
        "# I'm using 800 vocabSize since the text data in promotional.csv is less than in good.csv\n",
        "vocabSize=800\n",
        "\n",
        "# Train the CountVectorizer Model using our data\n",
        "cvModel = CountVectorizer(inputCol=\"words\", outputCol=\"features\", vocabSize=vocabSize, minDF=10).fit(wordsDF)\n",
        "\n",
        "# Transform our data into vector\n",
        "vectorizedDF = cvModel.transform(wordsDF)\n",
        "vectorizedDF.show()\n"
      ],
      "metadata": {
        "colab": {
          "base_uri": "https://localhost:8080/"
        },
        "id": "5Rjt2h4dEGX5",
        "outputId": "00a43f9a-caf8-4cb7-b534-feb58339f615"
      },
      "execution_count": 35,
      "outputs": [
        {
          "output_type": "stream",
          "name": "stdout",
          "text": [
            "+--------------------+------+---+------+---+------+--------------------+---+--------------------+--------------------+\n",
            "|                text|advert|coi|fanpov| pr|resume|                 url| id|               words|            features|\n",
            "+--------------------+------+---+------+---+------+--------------------+---+--------------------+--------------------+\n",
            "|1 Litre no Namida...|     0|  0|     1|  0|     0|https://en.wikipe...|  0|[1, litre, no, na...|(800,[0,1,2,3,4,5...|\n",
            "|1DayLater was fre...|     1|  1|     0|  0|     0|https://en.wikipe...|  1|[1daylater, was, ...|(800,[0,1,2,3,4,5...|\n",
            "|1E is a privately...|     1|  0|     0|  0|     0|https://en.wikipe...|  2|[1e, is, a, priva...|(800,[0,1,2,3,4,5...|\n",
            "|1Malaysia pronoun...|     1|  0|     0|  0|     0|https://en.wikipe...|  3|[1malaysia, prono...|(800,[0,1,2,3,4,5...|\n",
            "|The Jerusalem Bie...|     1|  0|     0|  0|     0|https://en.wikipe...|  4|[the, jerusalem, ...|(800,[0,1,2,3,4,5...|\n",
            "|1st Round Enterpr...|     0|  0|     0|  1|     0|https://en.wikipe...|  5|[1st, round, ente...|(800,[0,1,2,3,4,5...|\n",
            "|2ergo is a provid...|     1|  0|     0|  0|     0|https://en.wikipe...|  6|[2ergo, is, a, pr...|(800,[0,1,2,3,4,5...|\n",
            "|2N Telekomunikace...|     1|  0|     0|  0|     0|https://en.wikipe...|  7|[2n, telekomunika...|(800,[0,1,2,3,4,5...|\n",
            "|A 3D printing mar...|     1|  0|     0|  0|     0|https://en.wikipe...|  8|[a, 3d, printing,...|(800,[0,1,2,3,4,5...|\n",
            "|3DR is an America...|     1|  1|     0|  0|     0|https://en.wikipe...|  9|[3dr, is, an, ame...|(800,[0,1,2,3,4,5...|\n",
            "|3D Systems, headq...|     1|  0|     0|  0|     0|https://en.wikipe...| 10|[3d, systems,, he...|(800,[0,1,2,3,4,5...|\n",
            "|3Delight, is 3D c...|     0|  0|     0|  0|     1|https://en.wikipe...| 11|[3delight,, is, 3...|(800,[0,1,2,3,4,5...|\n",
            "|3DVIA is a brand ...|     1|  1|     0|  0|     0|https://en.wikipe...| 12|[3dvia, is, a, br...|(800,[0,1,2,3,4,5...|\n",
            "|3i Infotech Ltd e...|     1|  0|     0|  0|     0|https://en.wikipe...| 13|[3i, infotech, lt...|(800,[0,1,2,3,4,5...|\n",
            "|3logy is the Pino...|     1|  0|     0|  0|     0|https://en.wikipe...| 14|[3logy, is, the, ...|(800,[0,1,2,3,4,5...|\n",
            "|The 4 Hour Chef T...|     1|  0|     0|  1|     0|https://en.wikipe...| 15|[the, 4, hour, ch...|(800,[0,1,2,3,4,5...|\n",
            "|4Children was a c...|     1|  1|     0|  0|     0|https://en.wikipe...| 16|[4children, was, ...|(800,[0,1,2,3,4,5...|\n",
            "|If this article d...|     1|  0|     0|  0|     0|https://en.wikipe...| 17|[if, this, articl...|(800,[0,1,2,3,4,5...|\n",
            "|4G Americas is a ...|     0|  0|     0|  1|     0|https://en.wikipe...| 18|[4g, americas, is...|(800,[0,1,2,3,4,5...|\n",
            "|4MMM identified o...|     1|  0|     0|  0|     0|https://en.wikipe...| 19|[4mmm, identified...|(800,[0,1,2,3,4,5...|\n",
            "+--------------------+------+---+------+---+------+--------------------+---+--------------------+--------------------+\n",
            "only showing top 20 rows\n",
            "\n"
          ]
        }
      ]
    },
    {
      "cell_type": "markdown",
      "source": [
        "### **2. Fit/train an LSH Model**"
      ],
      "metadata": {
        "id": "ffi11XsuGh4J"
      }
    },
    {
      "cell_type": "code",
      "source": [
        "from pyspark.ml.feature import MinHashLSH\n",
        "\n",
        "mh = MinHashLSH(inputCol=\"features\", outputCol=\"hashValues\", numHashTables=3)\n",
        "LSHmodel = mh.fit(vectorizedDF)\n",
        "\n",
        "LSHmodel.transform(vectorizedDF).show()"
      ],
      "metadata": {
        "colab": {
          "base_uri": "https://localhost:8080/"
        },
        "id": "7Lq3QkSiFmxw",
        "outputId": "f2dd2bb1-9998-4b08-ce16-2da160b7e95c"
      },
      "execution_count": 37,
      "outputs": [
        {
          "output_type": "stream",
          "name": "stdout",
          "text": [
            "+--------------------+------+---+------+---+------+--------------------+---+--------------------+--------------------+--------------------+\n",
            "|                text|advert|coi|fanpov| pr|resume|                 url| id|               words|            features|          hashValues|\n",
            "+--------------------+------+---+------+---+------+--------------------+---+--------------------+--------------------+--------------------+\n",
            "|1 Litre no Namida...|     0|  0|     1|  0|     0|https://en.wikipe...|  0|[1, litre, no, na...|(800,[0,1,2,3,4,5...|[[1.9746211E7], [...|\n",
            "|1DayLater was fre...|     1|  1|     0|  0|     0|https://en.wikipe...|  1|[1daylater, was, ...|(800,[0,1,2,3,4,5...|[[171183.0], [1.5...|\n",
            "|1E is a privately...|     1|  0|     0|  0|     0|https://en.wikipe...|  2|[1e, is, a, priva...|(800,[0,1,2,3,4,5...|[[171183.0], [1.5...|\n",
            "|1Malaysia pronoun...|     1|  0|     0|  0|     0|https://en.wikipe...|  3|[1malaysia, prono...|(800,[0,1,2,3,4,5...|[[171183.0], [927...|\n",
            "|The Jerusalem Bie...|     1|  0|     0|  0|     0|https://en.wikipe...|  4|[the, jerusalem, ...|(800,[0,1,2,3,4,5...|[[5380287.0], [1....|\n",
            "|1st Round Enterpr...|     0|  0|     0|  1|     0|https://en.wikipe...|  5|[1st, round, ente...|(800,[0,1,2,3,4,5...|[[9.4811077E7], [...|\n",
            "|2ergo is a provid...|     1|  0|     0|  0|     0|https://en.wikipe...|  6|[2ergo, is, a, pr...|(800,[0,1,2,3,4,5...|[[171183.0], [352...|\n",
            "|2N Telekomunikace...|     1|  0|     0|  0|     0|https://en.wikipe...|  7|[2n, telekomunika...|(800,[0,1,2,3,4,5...|[[2.3337692E7], [...|\n",
            "|A 3D printing mar...|     1|  0|     0|  0|     0|https://en.wikipe...|  8|[a, 3d, printing,...|(800,[0,1,2,3,4,5...|[[1.9746211E7], [...|\n",
            "|3DR is an America...|     1|  1|     0|  0|     0|https://en.wikipe...|  9|[3dr, is, an, ame...|(800,[0,1,2,3,4,5...|[[171183.0], [352...|\n",
            "|3D Systems, headq...|     1|  0|     0|  0|     0|https://en.wikipe...| 10|[3d, systems,, he...|(800,[0,1,2,3,4,5...|[[171183.0], [352...|\n",
            "|3Delight, is 3D c...|     0|  0|     0|  0|     1|https://en.wikipe...| 11|[3delight,, is, 3...|(800,[0,1,2,3,4,5...|[[1.615473E7], [3...|\n",
            "|3DVIA is a brand ...|     1|  1|     0|  0|     0|https://en.wikipe...| 12|[3dvia, is, a, br...|(800,[0,1,2,3,4,5...|[[5380287.0], [92...|\n",
            "|3i Infotech Ltd e...|     1|  0|     0|  0|     0|https://en.wikipe...| 13|[3i, infotech, lt...|(800,[0,1,2,3,4,5...|[[4.291272E7], [9...|\n",
            "|3logy is the Pino...|     1|  0|     0|  0|     0|https://en.wikipe...| 14|[3logy, is, the, ...|(800,[0,1,2,3,4,5...|[[3.4112135E7], [...|\n",
            "|The 4 Hour Chef T...|     1|  0|     0|  1|     0|https://en.wikipe...| 15|[the, 4, hour, ch...|(800,[0,1,2,3,4,5...|[[2.6929173E7], [...|\n",
            "|4Children was a c...|     1|  1|     0|  0|     0|https://en.wikipe...| 16|[4children, was, ...|(800,[0,1,2,3,4,5...|[[171183.0], [927...|\n",
            "|If this article d...|     1|  0|     0|  0|     0|https://en.wikipe...| 17|[if, this, articl...|(800,[0,1,2,3,4,5...|[[2.4955315E7], [...|\n",
            "|4G Americas is a ...|     0|  0|     0|  1|     0|https://en.wikipe...| 18|[4g, americas, is...|(800,[0,1,2,3,4,5...|[[1.35934991E8], ...|\n",
            "|4MMM identified o...|     1|  0|     0|  0|     0|https://en.wikipe...| 19|[4mmm, identified...|(800,[0,1,2,3,4,5...|[[171183.0], [1.5...|\n",
            "+--------------------+------+---+------+---+------+--------------------+---+--------------------+--------------------+--------------------+\n",
            "only showing top 20 rows\n",
            "\n"
          ]
        }
      ]
    },
    {
      "cell_type": "markdown",
      "source": [
        "### **3. Searhing the similar pairs/items for a key \"software\" \"internet\"**\n",
        "\n"
      ],
      "metadata": {
        "id": "pqUNGgLGHYkZ"
      }
    },
    {
      "cell_type": "code",
      "source": [
        "print(cvModel.vocabulary.index(\"software\"))\n",
        "print(cvModel.vocabulary.index(\"internet\"))"
      ],
      "metadata": {
        "colab": {
          "base_uri": "https://localhost:8080/"
        },
        "id": "-8fQCBMhHKVT",
        "outputId": "8c8994d7-ef35-4bef-e7af-6260b5403425"
      },
      "execution_count": 39,
      "outputs": [
        {
          "output_type": "stream",
          "name": "stdout",
          "text": [
            "225\n",
            "574\n"
          ]
        }
      ]
    },
    {
      "cell_type": "code",
      "source": [
        "# Testing searching for \"software\" \"internet\"\n",
        "\n",
        "from pyspark.ml.linalg import Vectors\n",
        "\n",
        "# Convert the input wwith 2 words into 800 size vectors\n",
        "# If the words exist in the index we will give value = 1.0, otherwise 0.0\n",
        "# Fina result: key = [0, 0, ... , 1.0,1.0, ...]\n",
        "\n",
        "key = Vectors.sparse(vocabSize, {cvModel.vocabulary.index(\"software\"):1.0, cvModel.vocabulary.index(\"internet\"): 1.0})\n"
      ],
      "metadata": {
        "id": "hcUhf4qzJJAw"
      },
      "execution_count": 41,
      "outputs": []
    },
    {
      "cell_type": "code",
      "source": [
        "# Define the number of neghburs\n",
        "k = 40\n",
        "\n",
        "# Search inside LSH model that we already trained\n",
        "resultDF = LSHmodel.approxNearestNeighbors(vectorizedDF, key, k)\n",
        "resultDF.show()"
      ],
      "metadata": {
        "colab": {
          "base_uri": "https://localhost:8080/"
        },
        "id": "4zas_ongKnvx",
        "outputId": "ab7ddf9c-a8f3-4374-f21e-f22e11ebaee9"
      },
      "execution_count": 43,
      "outputs": [
        {
          "output_type": "stream",
          "name": "stdout",
          "text": [
            "+--------------------+------+---+------+---+------+--------------------+----------+--------------------+--------------------+--------------------+------------------+\n",
            "|                text|advert|coi|fanpov| pr|resume|                 url|        id|               words|            features|          hashValues|           distCol|\n",
            "+--------------------+------+---+------+---+------+--------------------+----------+--------------------+--------------------+--------------------+------------------+\n",
            "|Airavata is a sof...|     1|  0|     0|  0|     0|https://en.wikipe...|       420|[airavata, is, a,...|(800,[1,2,4,5,6,1...|[[1.69875943E8], ...|0.9333333333333333|\n",
            "|Captain Sim is a ...|     1|  0|     0|  0|     0|https://en.wikipe...|      3315|[captain, sim, is...|(800,[0,1,3,5,6,7...|[[1.69875943E8], ...|0.9333333333333333|\n",
            "|CaseWare Internat...|     1|  0|     0|  0|     0|https://en.wikipe...|      3432|[caseware, intern...|(800,[1,3,5,6,7,1...|[[1.69875943E8], ...|            0.9375|\n",
            "|Unified Endpoint ...|     1|  0|     0|  0|     0|https://en.wikipe...|8589944089|[unified, endpoin...|(800,[0,1,2,3,4,5...|[[3.0520654E7], [...|0.9393939393939394|\n",
            "|Wintertree is a s...|     1|  0|     0|  0|     0|https://en.wikipe...|8589945393|[wintertree, is, ...|(800,[0,1,2,3,4,5...|[[1.21569067E8], ...|0.9459459459459459|\n",
            "|HORTON, the Helpf...|     1|  0|     0|  0|     0|https://en.wikipe...|      9174|[horton,, the, he...|(800,[0,1,2,3,6,7...|[[1.01994039E8], ...|              0.95|\n",
            "|Mxi Technologies ...|     1|  0|     0|  0|     0|https://en.wikipe...|8589936438|[mxi, technologie...|(800,[0,1,3,4,6,7...|[[1.35934991E8], ...|              0.95|\n",
            "|Episode Engine is...|     1|  0|     0|  0|     0|https://en.wikipe...|      6345|[episode, engine,...|(800,[0,1,2,4,5,6...|[[1.69875943E8], ...|0.9523809523809523|\n",
            "|vpopmail is a fre...|     1|  0|     0|  0|     0|https://en.wikipe...|8589944875|[vpopmail, is, a,...|(800,[0,1,4,5,6,1...|[[5.7278644E7], [...|0.9545454545454546|\n",
            "|AmiKit is a compi...|     1|  0|     0|  0|     0|https://en.wikipe...|       836|[amikit, is, a, c...|(800,[0,1,2,4,5,6...|[[6.0870125E7], [...|              0.96|\n",
            "|ER Studio is data...|     1|  0|     0|  0|     0|https://en.wikipe...|      6360|[er, studio, is, ...|(800,[0,1,3,4,6,8...|[[1.35934991E8], ...|0.9615384615384616|\n",
            "|This list of exer...|     1|  0|     0|  0|     0|https://en.wikipe...|     12083|[this, list, of, ...|(800,[0,1,2,3,4,5...|[[6.8053087E7], [...|0.9615384615384616|\n",
            "|Developer Express...|     1|  0|     0|  0|     0|https://en.wikipe...|      5350|[developer, expre...|(800,[0,1,3,5,6,7...|[[1.615473E7], [9...| 0.962962962962963|\n",
            "|Engagor is a clou...|     0|  0|     0|  1|     0|https://en.wikipe...|      6285|[engagor, is, a, ...|(800,[0,1,3,5,6,8...|[[2.3337692E7], [...| 0.962962962962963|\n",
            "|The Magic W3 is a...|     0|  0|     0|  1|     0|https://en.wikipe...|8589934832|[the, magic, w3, ...|(800,[0,1,3,4,5,6...|[[1.01994039E8], ...|0.9642857142857143|\n",
            "|SoftwareONE is a ...|     1|  0|     0|  0|     0|https://en.wikipe...|8589941886|[softwareone, is,...|(800,[0,1,2,3,5,6...|[[7.3262191E7], [...|0.9655172413793104|\n",
            "|StarterWare is a ...|     1|  0|     0|  0|     0|https://en.wikipe...|8589943423|[starterware, is,...|(800,[0,2,5,6,7,1...|[[1.01994039E8], ...|0.9655172413793104|\n",
            "|The German Phytom...|     1|  0|     0|  0|     0|https://en.wikipe...|      5342|[the, german, phy...|(800,[0,1,2,3,4,5...|[[6.0870125E7], [...|0.9666666666666667|\n",
            "|ProReferee is an ...|     1|  0|     0|  0|     0|https://en.wikipe...|8589939056|[proreferee, is, ...|(800,[0,1,2,3,4,5...|[[1.35934991E8], ...|0.9666666666666667|\n",
            "|The IBM Academy o...|     1|  0|     0|  0|     0|https://en.wikipe...|      9429|[the, ibm, academ...|(800,[0,1,2,3,4,8...|[[1.01994039E8], ...|0.9696969696969697|\n",
            "+--------------------+------+---+------+---+------+--------------------+----------+--------------------+--------------------+--------------------+------------------+\n",
            "only showing top 20 rows\n",
            "\n"
          ]
        }
      ]
    },
    {
      "cell_type": "code",
      "source": [
        "# Save the result into CSV\n",
        "import pandas as pd\n",
        "\n",
        "data = resultDF.toPandas()\n",
        "data.to_csv(\"result_promotional.csv\")"
      ],
      "metadata": {
        "id": "MGHMeNr1LLVj"
      },
      "execution_count": 44,
      "outputs": []
    }
  ]
}